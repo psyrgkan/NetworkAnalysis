{
 "cells": [
  {
   "cell_type": "code",
   "execution_count": 1,
   "metadata": {},
   "outputs": [],
   "source": [
    "import pandas as pd\n",
    "import numpy as np\n",
    "# import networkx as nx\n",
    "# import matplotlib.pyplot as plt\n",
    "# import geopandas as gpd\n",
    "import random\n",
    "import pickle"
   ]
  },
  {
   "cell_type": "code",
   "execution_count": 10,
   "metadata": {},
   "outputs": [
    {
     "name": "stdout",
     "output_type": "stream",
     "text": "Series([], Name: migration1, dtype: int64)\nSeries([], Name: migration2, dtype: int64)\nSeries([], Name: migration3, dtype: int64)\nSeries([], Name: migration4, dtype: int64)\nSeries([], Name: migration5, dtype: int64)\nSeries([], Name: migration6, dtype: int64)\nSeries([], Name: migration7, dtype: int64)\nSeries([], Name: migration8, dtype: int64)\nSeries([], Name: migration9, dtype: int64)\nSeries([], Name: migration10, dtype: int64)\nSeries([], Name: migration11, dtype: int64)\nSeries([], Name: migration12, dtype: int64)\nSeries([], Name: migration13, dtype: int64)\nSeries([], Name: migration14, dtype: int64)\nSeries([], Name: migration15, dtype: int64)\nSeries([], Name: migration16, dtype: int64)\nSeries([], Name: migration17, dtype: int64)\nSeries([], Name: migration18, dtype: int64)\nSeries([], Name: migration19, dtype: int64)\nSeries([], Name: migration20, dtype: int64)\nSeries([], Name: migration21, dtype: int64)\n"
    }
   ],
   "source": [
    "# median migration\n",
    "df = pd.read_pickle('in_migv2')\n",
    "migration_col = 'migration' + str(0)\n",
    "in_df = pd.DataFrame(df[0], columns=[migration_col, 'ifips', 'jfips'], dtype= int)\n",
    "\n",
    "for year in range(1, len(df)):\n",
    "    migration_col = 'migration' + str(year)\n",
    "    temp_df = pd.DataFrame(df[year], columns= [migration_col, 'ifips', 'jfips'], dtype= int)\n",
    "    in_df = pd.merge(in_df, temp_df,  how='left', left_on=['ifips','jfips'], right_on = ['ifips','jfips'])\n",
    "    print(temp_df[temp_df['ifips'] == temp_df['jfips']][migration_col])\n",
    "\n",
    "in_df['median_mig'] = in_df[['migration0', 'migration1', 'migration2', 'migration3',\n",
    "       'migration4', 'migration5', 'migration6', 'migration7', 'migration8',\n",
    "       'migration9', 'migration10', 'migration11', 'migration12',\n",
    "       'migration13', 'migration14', 'migration15', 'migration16',\n",
    "       'migration17', 'migration18', 'migration19', 'migration20',\n",
    "       'migration21']].median(axis=1)\n",
    "\n",
    "median_df = in_df[['ifips', 'jfips', 'median_mig']]"
   ]
  },
  {
   "cell_type": "code",
   "execution_count": 11,
   "metadata": {},
   "outputs": [],
   "source": [
    "# Rename the columns to match your actual column names if necessary\n",
    "source_county_col = 'ifips'\n",
    "target_county_col = 'jfips'\n",
    "migration_col = 'median_mig'\n",
    "\n",
    "# Define a function to extract the state FIPS code from a county FIPS code\n",
    "def county_to_state_fips(county_fips):\n",
    "    return int(str(county_fips).zfill(5)[:2])\n",
    "\n",
    "# Create a new DataFrame with the state FIPS codes for each county FIPS code\n",
    "median_df['source state'] = median_df[source_county_col].apply(county_to_state_fips)\n",
    "median_df['target state'] = median_df[target_county_col].apply(county_to_state_fips)\n",
    "\n",
    "# Group by source and target state FIPS codes and sum the migration values\n",
    "state_migration = median_df.groupby(['source state', 'target state'])[migration_col].sum().reset_index()\n",
    "state_migration = state_migration[(state_migration['source state'] != state_migration['target state'])]"
   ]
  },
  {
   "cell_type": "code",
   "execution_count": 12,
   "metadata": {},
   "outputs": [
    {
     "ename": "KeyError",
     "evalue": "\"['state_source', 'state_target'] not found in axis\"",
     "output_type": "error",
     "traceback": [
      "\u001b[0;31m---------------------------------------------------------------------------\u001b[0m",
      "\u001b[0;31mKeyError\u001b[0m                                  Traceback (most recent call last)",
      "Cell \u001b[0;32mIn[12], line 46\u001b[0m\n\u001b[1;32m     43\u001b[0m state_migration \u001b[38;5;241m=\u001b[39m pd\u001b[38;5;241m.\u001b[39mmerge(state_migration, disasters_df,  how\u001b[38;5;241m=\u001b[39m\u001b[38;5;124m'\u001b[39m\u001b[38;5;124mleft\u001b[39m\u001b[38;5;124m'\u001b[39m, left_on\u001b[38;5;241m=\u001b[39m\u001b[38;5;124m'\u001b[39m\u001b[38;5;124mtarget state\u001b[39m\u001b[38;5;124m'\u001b[39m, right_on\u001b[38;5;241m=\u001b[39m\u001b[38;5;124m'\u001b[39m\u001b[38;5;124mstate\u001b[39m\u001b[38;5;124m'\u001b[39m, suffixes\u001b[38;5;241m=\u001b[39m(\u001b[38;5;124m'\u001b[39m\u001b[38;5;124m_source\u001b[39m\u001b[38;5;124m'\u001b[39m, \u001b[38;5;124m'\u001b[39m\u001b[38;5;124m_target\u001b[39m\u001b[38;5;124m'\u001b[39m))\n\u001b[1;32m     45\u001b[0m \u001b[38;5;66;03m# remove the extra columns\u001b[39;00m\n\u001b[0;32m---> 46\u001b[0m state_migration \u001b[38;5;241m=\u001b[39m \u001b[43mstate_migration\u001b[49m\u001b[38;5;241;43m.\u001b[39;49m\u001b[43mdrop\u001b[49m\u001b[43m(\u001b[49m\u001b[43m[\u001b[49m\u001b[38;5;124;43m'\u001b[39;49m\u001b[38;5;124;43mstate_source\u001b[39;49m\u001b[38;5;124;43m'\u001b[39;49m\u001b[43m,\u001b[49m\u001b[43m \u001b[49m\u001b[38;5;124;43m'\u001b[39;49m\u001b[38;5;124;43mstate_target\u001b[39;49m\u001b[38;5;124;43m'\u001b[39;49m\u001b[43m]\u001b[49m\u001b[43m,\u001b[49m\u001b[43m \u001b[49m\u001b[43maxis\u001b[49m\u001b[38;5;241;43m=\u001b[39;49m\u001b[38;5;241;43m1\u001b[39;49m\u001b[43m)\u001b[49m\n\u001b[1;32m     48\u001b[0m \u001b[38;5;66;03m# Display the new DataFrame\u001b[39;00m\n\u001b[1;32m     49\u001b[0m \u001b[38;5;28mprint\u001b[39m(state_migration\u001b[38;5;241m.\u001b[39mhead())\n",
      "File \u001b[0;32m~/.pyenv/versions/3.8.6/lib/python3.8/site-packages/pandas/util/_decorators.py:331\u001b[0m, in \u001b[0;36mdeprecate_nonkeyword_arguments.<locals>.decorate.<locals>.wrapper\u001b[0;34m(*args, **kwargs)\u001b[0m\n\u001b[1;32m    325\u001b[0m \u001b[38;5;28;01mif\u001b[39;00m \u001b[38;5;28mlen\u001b[39m(args) \u001b[38;5;241m>\u001b[39m num_allow_args:\n\u001b[1;32m    326\u001b[0m     warnings\u001b[38;5;241m.\u001b[39mwarn(\n\u001b[1;32m    327\u001b[0m         msg\u001b[38;5;241m.\u001b[39mformat(arguments\u001b[38;5;241m=\u001b[39m_format_argument_list(allow_args)),\n\u001b[1;32m    328\u001b[0m         \u001b[38;5;167;01mFutureWarning\u001b[39;00m,\n\u001b[1;32m    329\u001b[0m         stacklevel\u001b[38;5;241m=\u001b[39mfind_stack_level(),\n\u001b[1;32m    330\u001b[0m     )\n\u001b[0;32m--> 331\u001b[0m \u001b[38;5;28;01mreturn\u001b[39;00m \u001b[43mfunc\u001b[49m\u001b[43m(\u001b[49m\u001b[38;5;241;43m*\u001b[39;49m\u001b[43margs\u001b[49m\u001b[43m,\u001b[49m\u001b[43m \u001b[49m\u001b[38;5;241;43m*\u001b[39;49m\u001b[38;5;241;43m*\u001b[39;49m\u001b[43mkwargs\u001b[49m\u001b[43m)\u001b[49m\n",
      "File \u001b[0;32m~/.pyenv/versions/3.8.6/lib/python3.8/site-packages/pandas/core/frame.py:5399\u001b[0m, in \u001b[0;36mDataFrame.drop\u001b[0;34m(self, labels, axis, index, columns, level, inplace, errors)\u001b[0m\n\u001b[1;32m   5251\u001b[0m \u001b[38;5;129m@deprecate_nonkeyword_arguments\u001b[39m(version\u001b[38;5;241m=\u001b[39m\u001b[38;5;28;01mNone\u001b[39;00m, allowed_args\u001b[38;5;241m=\u001b[39m[\u001b[38;5;124m\"\u001b[39m\u001b[38;5;124mself\u001b[39m\u001b[38;5;124m\"\u001b[39m, \u001b[38;5;124m\"\u001b[39m\u001b[38;5;124mlabels\u001b[39m\u001b[38;5;124m\"\u001b[39m])\n\u001b[1;32m   5252\u001b[0m \u001b[38;5;28;01mdef\u001b[39;00m \u001b[38;5;21mdrop\u001b[39m(  \u001b[38;5;66;03m# type: ignore[override]\u001b[39;00m\n\u001b[1;32m   5253\u001b[0m     \u001b[38;5;28mself\u001b[39m,\n\u001b[0;32m   (...)\u001b[0m\n\u001b[1;32m   5260\u001b[0m     errors: IgnoreRaise \u001b[38;5;241m=\u001b[39m \u001b[38;5;124m\"\u001b[39m\u001b[38;5;124mraise\u001b[39m\u001b[38;5;124m\"\u001b[39m,\n\u001b[1;32m   5261\u001b[0m ) \u001b[38;5;241m-\u001b[39m\u001b[38;5;241m>\u001b[39m DataFrame \u001b[38;5;241m|\u001b[39m \u001b[38;5;28;01mNone\u001b[39;00m:\n\u001b[1;32m   5262\u001b[0m \u001b[38;5;250m    \u001b[39m\u001b[38;5;124;03m\"\"\"\u001b[39;00m\n\u001b[1;32m   5263\u001b[0m \u001b[38;5;124;03m    Drop specified labels from rows or columns.\u001b[39;00m\n\u001b[1;32m   5264\u001b[0m \n\u001b[0;32m   (...)\u001b[0m\n\u001b[1;32m   5397\u001b[0m \u001b[38;5;124;03m            weight  1.0     0.8\u001b[39;00m\n\u001b[1;32m   5398\u001b[0m \u001b[38;5;124;03m    \"\"\"\u001b[39;00m\n\u001b[0;32m-> 5399\u001b[0m     \u001b[38;5;28;01mreturn\u001b[39;00m \u001b[38;5;28;43msuper\u001b[39;49m\u001b[43m(\u001b[49m\u001b[43m)\u001b[49m\u001b[38;5;241;43m.\u001b[39;49m\u001b[43mdrop\u001b[49m\u001b[43m(\u001b[49m\n\u001b[1;32m   5400\u001b[0m \u001b[43m        \u001b[49m\u001b[43mlabels\u001b[49m\u001b[38;5;241;43m=\u001b[39;49m\u001b[43mlabels\u001b[49m\u001b[43m,\u001b[49m\n\u001b[1;32m   5401\u001b[0m \u001b[43m        \u001b[49m\u001b[43maxis\u001b[49m\u001b[38;5;241;43m=\u001b[39;49m\u001b[43maxis\u001b[49m\u001b[43m,\u001b[49m\n\u001b[1;32m   5402\u001b[0m \u001b[43m        \u001b[49m\u001b[43mindex\u001b[49m\u001b[38;5;241;43m=\u001b[39;49m\u001b[43mindex\u001b[49m\u001b[43m,\u001b[49m\n\u001b[1;32m   5403\u001b[0m \u001b[43m        \u001b[49m\u001b[43mcolumns\u001b[49m\u001b[38;5;241;43m=\u001b[39;49m\u001b[43mcolumns\u001b[49m\u001b[43m,\u001b[49m\n\u001b[1;32m   5404\u001b[0m \u001b[43m        \u001b[49m\u001b[43mlevel\u001b[49m\u001b[38;5;241;43m=\u001b[39;49m\u001b[43mlevel\u001b[49m\u001b[43m,\u001b[49m\n\u001b[1;32m   5405\u001b[0m \u001b[43m        \u001b[49m\u001b[43minplace\u001b[49m\u001b[38;5;241;43m=\u001b[39;49m\u001b[43minplace\u001b[49m\u001b[43m,\u001b[49m\n\u001b[1;32m   5406\u001b[0m \u001b[43m        \u001b[49m\u001b[43merrors\u001b[49m\u001b[38;5;241;43m=\u001b[39;49m\u001b[43merrors\u001b[49m\u001b[43m,\u001b[49m\n\u001b[1;32m   5407\u001b[0m \u001b[43m    \u001b[49m\u001b[43m)\u001b[49m\n",
      "File \u001b[0;32m~/.pyenv/versions/3.8.6/lib/python3.8/site-packages/pandas/util/_decorators.py:331\u001b[0m, in \u001b[0;36mdeprecate_nonkeyword_arguments.<locals>.decorate.<locals>.wrapper\u001b[0;34m(*args, **kwargs)\u001b[0m\n\u001b[1;32m    325\u001b[0m \u001b[38;5;28;01mif\u001b[39;00m \u001b[38;5;28mlen\u001b[39m(args) \u001b[38;5;241m>\u001b[39m num_allow_args:\n\u001b[1;32m    326\u001b[0m     warnings\u001b[38;5;241m.\u001b[39mwarn(\n\u001b[1;32m    327\u001b[0m         msg\u001b[38;5;241m.\u001b[39mformat(arguments\u001b[38;5;241m=\u001b[39m_format_argument_list(allow_args)),\n\u001b[1;32m    328\u001b[0m         \u001b[38;5;167;01mFutureWarning\u001b[39;00m,\n\u001b[1;32m    329\u001b[0m         stacklevel\u001b[38;5;241m=\u001b[39mfind_stack_level(),\n\u001b[1;32m    330\u001b[0m     )\n\u001b[0;32m--> 331\u001b[0m \u001b[38;5;28;01mreturn\u001b[39;00m \u001b[43mfunc\u001b[49m\u001b[43m(\u001b[49m\u001b[38;5;241;43m*\u001b[39;49m\u001b[43margs\u001b[49m\u001b[43m,\u001b[49m\u001b[43m \u001b[49m\u001b[38;5;241;43m*\u001b[39;49m\u001b[38;5;241;43m*\u001b[39;49m\u001b[43mkwargs\u001b[49m\u001b[43m)\u001b[49m\n",
      "File \u001b[0;32m~/.pyenv/versions/3.8.6/lib/python3.8/site-packages/pandas/core/generic.py:4505\u001b[0m, in \u001b[0;36mNDFrame.drop\u001b[0;34m(self, labels, axis, index, columns, level, inplace, errors)\u001b[0m\n\u001b[1;32m   4503\u001b[0m \u001b[38;5;28;01mfor\u001b[39;00m axis, labels \u001b[38;5;129;01min\u001b[39;00m axes\u001b[38;5;241m.\u001b[39mitems():\n\u001b[1;32m   4504\u001b[0m     \u001b[38;5;28;01mif\u001b[39;00m labels \u001b[38;5;129;01mis\u001b[39;00m \u001b[38;5;129;01mnot\u001b[39;00m \u001b[38;5;28;01mNone\u001b[39;00m:\n\u001b[0;32m-> 4505\u001b[0m         obj \u001b[38;5;241m=\u001b[39m \u001b[43mobj\u001b[49m\u001b[38;5;241;43m.\u001b[39;49m\u001b[43m_drop_axis\u001b[49m\u001b[43m(\u001b[49m\u001b[43mlabels\u001b[49m\u001b[43m,\u001b[49m\u001b[43m \u001b[49m\u001b[43maxis\u001b[49m\u001b[43m,\u001b[49m\u001b[43m \u001b[49m\u001b[43mlevel\u001b[49m\u001b[38;5;241;43m=\u001b[39;49m\u001b[43mlevel\u001b[49m\u001b[43m,\u001b[49m\u001b[43m \u001b[49m\u001b[43merrors\u001b[49m\u001b[38;5;241;43m=\u001b[39;49m\u001b[43merrors\u001b[49m\u001b[43m)\u001b[49m\n\u001b[1;32m   4507\u001b[0m \u001b[38;5;28;01mif\u001b[39;00m inplace:\n\u001b[1;32m   4508\u001b[0m     \u001b[38;5;28mself\u001b[39m\u001b[38;5;241m.\u001b[39m_update_inplace(obj)\n",
      "File \u001b[0;32m~/.pyenv/versions/3.8.6/lib/python3.8/site-packages/pandas/core/generic.py:4546\u001b[0m, in \u001b[0;36mNDFrame._drop_axis\u001b[0;34m(self, labels, axis, level, errors, only_slice)\u001b[0m\n\u001b[1;32m   4544\u001b[0m         new_axis \u001b[38;5;241m=\u001b[39m axis\u001b[38;5;241m.\u001b[39mdrop(labels, level\u001b[38;5;241m=\u001b[39mlevel, errors\u001b[38;5;241m=\u001b[39merrors)\n\u001b[1;32m   4545\u001b[0m     \u001b[38;5;28;01melse\u001b[39;00m:\n\u001b[0;32m-> 4546\u001b[0m         new_axis \u001b[38;5;241m=\u001b[39m \u001b[43maxis\u001b[49m\u001b[38;5;241;43m.\u001b[39;49m\u001b[43mdrop\u001b[49m\u001b[43m(\u001b[49m\u001b[43mlabels\u001b[49m\u001b[43m,\u001b[49m\u001b[43m \u001b[49m\u001b[43merrors\u001b[49m\u001b[38;5;241;43m=\u001b[39;49m\u001b[43merrors\u001b[49m\u001b[43m)\u001b[49m\n\u001b[1;32m   4547\u001b[0m     indexer \u001b[38;5;241m=\u001b[39m axis\u001b[38;5;241m.\u001b[39mget_indexer(new_axis)\n\u001b[1;32m   4549\u001b[0m \u001b[38;5;66;03m# Case for non-unique axis\u001b[39;00m\n\u001b[1;32m   4550\u001b[0m \u001b[38;5;28;01melse\u001b[39;00m:\n",
      "File \u001b[0;32m~/.pyenv/versions/3.8.6/lib/python3.8/site-packages/pandas/core/indexes/base.py:6934\u001b[0m, in \u001b[0;36mIndex.drop\u001b[0;34m(self, labels, errors)\u001b[0m\n\u001b[1;32m   6932\u001b[0m \u001b[38;5;28;01mif\u001b[39;00m mask\u001b[38;5;241m.\u001b[39many():\n\u001b[1;32m   6933\u001b[0m     \u001b[38;5;28;01mif\u001b[39;00m errors \u001b[38;5;241m!=\u001b[39m \u001b[38;5;124m\"\u001b[39m\u001b[38;5;124mignore\u001b[39m\u001b[38;5;124m\"\u001b[39m:\n\u001b[0;32m-> 6934\u001b[0m         \u001b[38;5;28;01mraise\u001b[39;00m \u001b[38;5;167;01mKeyError\u001b[39;00m(\u001b[38;5;124mf\u001b[39m\u001b[38;5;124m\"\u001b[39m\u001b[38;5;132;01m{\u001b[39;00m\u001b[38;5;28mlist\u001b[39m(labels[mask])\u001b[38;5;132;01m}\u001b[39;00m\u001b[38;5;124m not found in axis\u001b[39m\u001b[38;5;124m\"\u001b[39m)\n\u001b[1;32m   6935\u001b[0m     indexer \u001b[38;5;241m=\u001b[39m indexer[\u001b[38;5;241m~\u001b[39mmask]\n\u001b[1;32m   6936\u001b[0m \u001b[38;5;28;01mreturn\u001b[39;00m \u001b[38;5;28mself\u001b[39m\u001b[38;5;241m.\u001b[39mdelete(indexer)\n",
      "\u001b[0;31mKeyError\u001b[0m: \"['state_source', 'state_target'] not found in axis\""
     ]
    }
   ],
   "source": [
    "# Rename the columns in the new DataFrame\n",
    "state_migration.columns = ['source state', 'target state', 'migration']\n",
    "\n",
    "# Mapping to names\n",
    "state_fips_to_code = {\n",
    "    1: 'AL', 2: 'AK', 4: 'AZ', 5: 'AR', 6: 'CA', 8: 'CO', 9: 'CT', 10: 'DE', 11: 'DC', 12: 'FL', 13: 'GA',\n",
    "    15: 'HI', 16: 'ID', 17: 'IL', 18: 'IN', 19: 'IA', 20: 'KS', 21: 'KY', 22: 'LA', 23: 'ME', 24: 'MD',\n",
    "    25: 'MA', 26: 'MI', 27: 'MN', 28: 'MS', 29: 'MO', 30: 'MT', 31: 'NE', 32: 'NV', 33: 'NH', 34: 'NJ',\n",
    "    35: 'NM', 36: 'NY', 37: 'NC', 38: 'ND', 39: 'OH', 40: 'OK', 41: 'OR', 42: 'PA', 44: 'RI', 45: 'SC',\n",
    "    46: 'SD', 47: 'TN', 48: 'TX', 49: 'UT', 50: 'VT', 51: 'VA', 53: 'WA', 54: 'WV', 55: 'WI', 56: 'WY'\n",
    "}\n",
    "\n",
    "# Convert the state FIPS codes to state codes\n",
    "state_migration['source state'] = state_migration['source state'].map(state_fips_to_code)\n",
    "state_migration['target state'] = state_migration['target state'].map(state_fips_to_code)\n",
    "\n",
    "# remove all the ones that have 0 migration\n",
    "state_migration = state_migration[state_migration['migration'] != 0]\n",
    "\n",
    "# convert migration to flux (normalize wrt median populuation (2000 + 2001)/2) https://www.iowadatacenter.org/datatables/UnitedStates/usstpopest20002002.pdf\n",
    "state_code_to_population = {\n",
    "    'AL': (4468912 + 4451975)/2, 'AK': (633630+627697)/2, 'AZ': (5306966+5167142)/2, 'AR': (2694698+2678668)/2, 'CA': (34600463+34010375)/2, 'CO': (4430989 + 4326758)/2, 'CT': (3434602 + 3411956) / 2, 'DE': (796599 + 786512)/2, 'DC': (573822 + 571641)/2, 'FL': (16373330 + 16051395)/2, 'GA': (8405677 + 8234373)/2,\n",
    "    'HI': (1227024 + 1212670)/2, 'ID': (1320585 + 1299721)/2, 'IL': (12520227 + 12440846)/2, 'IN': (6126743 + 6091950)/2, 'IA': (2931967 + 2928742)/2, 'KS': (2702125 + 2692557)/2, 'KY': (4068816 + 4048832)/2, 'LA': (4470368 + 4469768)/2, 'ME': (1284470 + 1277284)/2, 'MD': (5386079 + 5312461) / 2, 'MA': (6401164 + 6361720)/2, 'MI': (10006266 + 9956115)/2, 'MN': (4984535 + 4934248)/2, 'MS': (2859733 + 2848829)/2, 'MO': (5637309 + 5605067)/2, 'MT': (905382 + 903416)/2, 'NE': (1720039 + 1713375)/2, 'NV': (2097722 + 2018828)/2, 'NH': (1259359 + 1240472)/2, 'NJ': (8511116 + 8433276)/2,\n",
    "    'NM': (1830935 + 1821767)/2, 'NY': (19084350 + 18999760)/2, 'NC': (8206105 + 8082261)/2, 'ND': (636550 + 641131)/2, 'OH': (11389785 + 11363568)/2, 'OK': (3469577 + 3454408)/2, 'OR': (3473441 + 3431137)/2, 'PA': (12303104 + 12286107)/2, 'RI': (1059659 + 1050698)/2, 'SC': (4062125 + 4023725)/2, 'SD': (758324 + 755783)/2, 'TN': (5749398 + 5703246)/2, 'TX': (21370983 + 20955248)/2, 'UT': (2278712 + 2243406)/2, 'VT': (612978 + 609952)/2, 'VA': (7196750 + 7105900)/2, 'WA': (5993390 + 5911803)/2, 'WV': (1800975 + 1807326)/2, 'WI': (5405947 + 5374367)/2, 'WY': (493754 + 494086)/2\n",
    "}\n",
    "\n",
    "state_migration['migration_flux'] = state_migration['migration'] / state_migration['source state'].map(state_code_to_population)\n",
    "state_migration['source population'] = state_migration['source state'].map(state_code_to_population)\n",
    "state_migration['target population'] = state_migration['target state'].map(state_code_to_population)\n",
    "\n",
    "cols = ['source state', 'target state']\n",
    "\n",
    "# Add the state distance data to state_migration\n",
    "distances_df = pd.read_csv('./state_distances.csv')\n",
    "distances_df.columns = ['source state', 'target state', 'distance']\n",
    "state_migration = pd.merge(state_migration, distances_df,  how='left', left_on=cols, right_on=cols)\n",
    "\n",
    "# Add the state disaster and program data to state_migration\n",
    "disasters_df = pd.read_pickle('./disasters_mean_median.pkl')\n",
    "\n",
    "# Merge disasters_df and state_migration on state so that it creates an extra column for disasters of each state\n",
    "state_migration = pd.merge(state_migration, disasters_df,  how='left', left_on='source state', right_on='state', suffixes=('_source', '_target'))\n",
    "state_migration = pd.merge(state_migration, disasters_df,  how='left', left_on='target state', right_on='state', suffixes=('_source', '_target'))\n",
    "\n",
    "# remove the extra columns\n",
    "# state_migration = state_migration.drop(['state_source', 'state_target'], axis=1)\n",
    "\n",
    "# Display the new DataFrame\n",
    "print(state_migration.head())\n",
    "\n",
    "# Create an empty directed graph\n",
    "# G_state = nx.DiGraph()\n",
    "\n",
    "# # Iterate through the rows in the DataFrame and add edges to the graph\n",
    "# for index, row in state_migration.iterrows():\n",
    "#     source = row['source state']\n",
    "#     target = row['target state']\n",
    "#     weight = row['migration_flux']\n",
    "#     G_state.add_edge(source, target, weight=weight)\n",
    "\n",
    "# # Print the graph's nodes and edges\n",
    "# # print(\"Nodes:\", G_state.nodes())\n",
    "# # print(\"Edges:\", G_state.edges(data=True))\n",
    "# with open(\"./median_graph.p\", 'wb') as f:\n",
    "#     pickle.dump(G_state, f)"
   ]
  },
  {
   "cell_type": "code",
   "execution_count": 14,
   "metadata": {},
   "outputs": [
    {
     "data": {
      "text/plain": "Index(['source state', 'target state', 'migration', 'migration_flux',\n       'source population', 'target population', 'distance',\n       'disasters_median_source', 'ihProgramDeclared_median_source',\n       'iaProgramDeclared_median_source', 'paProgramDeclared_median_source',\n       'hmProgramDeclared_median_source', 'disasters_mean_source',\n       'ihProgramDeclared_mean_source', 'iaProgramDeclared_mean_source',\n       'paProgramDeclared_mean_source', 'hmProgramDeclared_mean_source',\n       'disasters_median_target', 'ihProgramDeclared_median_target',\n       'iaProgramDeclared_median_target', 'paProgramDeclared_median_target',\n       'hmProgramDeclared_median_target', 'disasters_mean_target',\n       'ihProgramDeclared_mean_target', 'iaProgramDeclared_mean_target',\n       'paProgramDeclared_mean_target', 'hmProgramDeclared_mean_target'],\n      dtype='object')"
     },
     "execution_count": 14,
     "metadata": {},
     "output_type": "execute_result"
    }
   ],
   "source": [
    "state_migration.columns"
   ]
  },
  {
   "cell_type": "code",
   "execution_count": 15,
   "metadata": {},
   "outputs": [],
   "source": [
    "with open(\"./state_mig_median.pkl\", 'wb') as f:\n",
    "    pickle.dump(state_migration, f)"
   ]
  },
  {
   "cell_type": "code",
   "execution_count": 43,
   "metadata": {},
   "outputs": [],
   "source": [
    "# Hurricane Katrina happened in August 2005, so we should look at 2006 data\n",
    "\n",
    "# 2006 migration\n",
    "df = pd.read_pickle('in_migv2')\n",
    "migration_col = 'migration_' + str(2006)\n",
    "df_2006 = pd.DataFrame(df[16], columns=[migration_col, 'ifips', 'jfips'], dtype= int)\n",
    "\n",
    "# Rename the columns to match your actual column names if necessary\n",
    "source_county_col = 'ifips'\n",
    "target_county_col = 'jfips'\n",
    "migration_col = 'migration_2006'\n",
    "\n",
    "# Define a function to extract the state FIPS code from a county FIPS code\n",
    "def county_to_state_fips(county_fips):\n",
    "    return int(str(county_fips).zfill(5)[:2])\n",
    "\n",
    "# Create a new DataFrame with the state FIPS codes for each county FIPS code\n",
    "df_2006['source state'] = df_2006[source_county_col].apply(county_to_state_fips)\n",
    "df_2006['target state'] = df_2006[target_county_col].apply(county_to_state_fips)\n",
    "\n",
    "# Group by source and target state FIPS codes and sum the migration values\n",
    "state_migration_2006 = df_2006.groupby(['source state', 'target state'])[migration_col].sum().reset_index()\n",
    "state_migration_2006 = state_migration_2006[(state_migration_2006['source state'] != state_migration_2006['target state'])]"
   ]
  },
  {
   "cell_type": "code",
   "execution_count": 44,
   "metadata": {},
   "outputs": [
    {
     "name": "stdout",
     "output_type": "stream",
     "text": [
      "54177e-06}), ('WA', 'MO', {'weight': 3.2492234434453824e-05}), ('WA', 'MT', {'weight': 0.00015304313320576077}), ('WA', 'NE', {'weight': 1.77373067202574e-05}), ('WA', 'NV', {'weight': 0.00027139648955154907}), ('WA', 'NH', {'weight': 5.650823379905013e-06}), ('WA', 'NJ', {'weight': 2.8881986163958955e-05}), ('WA', 'NM', {'weight': 4.677626020032483e-05}), ('WA', 'NY', {'weight': 0.00017847183841533331}), ('WA', 'NC', {'weight': 0.00010328449399937496}), ('WA', 'ND', {'weight': 5.336888747688067e-06}), ('WA', 'OH', {'weight': 2.856805153174201e-05}), ('WA', 'OK', {'weight': 3.9241829027118146e-05}), ('WA', 'OR', {'weight': 0.001253854921074479}), ('WA', 'PA', {'weight': 4.928773725806039e-05}), ('WA', 'RI', {'weight': 4.709019483254177e-06}), ('WA', 'SC', {'weight': 3.421887491164702e-05}), ('WA', 'SD', {'weight': 7.691398489315157e-06}), ('WA', 'TN', {'weight': 3.9398796343226616e-05}), ('WA', 'TX', {'weight': 0.00045065316454742475}), ('WA', 'UT', {'weight': 0.00016905379944882497}), ('WA', 'VT', {'weight': 3.1393463221694518e-06}), ('WA', 'VA', {'weight': 0.00014786321177418118}), ('WA', 'WI', {'weight': 2.307419546794547e-05}), ('WA', 'WY', {'weight': 5.964758012121958e-06}), ('WI', 'AL', {'weight': 2.689302224680444e-06}), ('WI', 'AK', {'weight': 2.5100154097017473e-06}), ('WI', 'AZ', {'weight': 0.00026140017623893914}), ('WI', 'AR', {'weight': 1.1295069343657863e-05}), ('WI', 'CA', {'weight': 0.0002664202070583426}), ('WI', 'CO', {'weight': 5.8985362127991065e-05}), ('WI', 'CT', {'weight': 1.004006163880699e-05}), ('WI', 'DC', {'weight': 1.7390821052933535e-05}), ('WI', 'FL', {'weight': 0.00018878901617256714}), ('WI', 'GA', {'weight': 5.27103236037367e-05}), ('WI', 'HI', {'weight': 9.322914378892205e-06}), ('WI', 'ID', {'weight': 3.585736299573925e-06}), ('WI', 'IL', {'weight': 0.0009462758094575588}), ('WI', 'IN', {'weight': 3.8367378405440995e-05}), ('WI', 'IA', {'weight': 6.848756332186196e-05}), ('WI', 'KS', {'weight': 1.004006163880699e-05}), ('WI', 'KY', {'weight': 3.047875854637836e-06}), ('WI', 'LA', {'weight': 6.633612154211761e-06}), ('WI', 'MD', {'weight': 2.2410851872337032e-05}), ('WI', 'MA', {'weight': 3.4602355290888376e-05}), ('WI', 'MI', {'weight': 0.00010667565491232426}), ('WI', 'MN', {'weight': 0.0009147213300213082}), ('WI', 'MS', {'weight': 5.557891264339583e-06}), ('WI', 'MO', {'weight': 4.195311470501492e-05}), ('WI', 'NE', {'weight': 9.143627563913508e-06}), ('WI', 'NV', {'weight': 7.727261725581809e-05}), ('WI', 'NJ', {'weight': 9.143627563913508e-06}), ('WI', 'NM', {'weight': 8.247193489020027e-06}), ('WI', 'NY', {'weight': 6.70532688020324e-05}), ('WI', 'NC', {'weight': 4.123596744510013e-05}), ('WI', 'OH', {'weight': 3.531950255080316e-05}), ('WI', 'OK', {'weight': 9.322914378892205e-06}), ('WI', 'OR', {'weight': 2.7789456321697918e-05}), ('WI', 'PA', {'weight': 2.3127999132251815e-05}), ('WI', 'SC', {'weight': 4.123596744510014e-06}), ('WI', 'TN', {'weight': 4.589742463454624e-05}), ('WI', 'TX', {'weight': 0.00015203521910193442}), ('WI', 'UT', {'weight': 1.3446511123402218e-05}), ('WI', 'VT', {'weight': 1.7928681497869624e-06}), ('WI', 'VA', {'weight': 3.4960928920845766e-05}), ('WI', 'WA', {'weight': 5.3786044493608874e-05}), ('ID', 'AK', {'weight': 4.3576871303200384e-05}), ('ID', 'AZ', {'weight': 0.00037176518330542827}), ('ID', 'CA', {'weight': 0.000571946435854505}), ('ID', 'CO', {'weight': 0.00012936883668137613}), ('ID', 'DC', {'weight': 8.170663369350072e-06}), ('ID', 'FL', {'weight': 1.5660438124587637e-05}), ('ID', 'GA', {'weight': 7.4897747552375655e-06}), ('ID', 'HI', {'weight': 1.6341326738700144e-05}), ('ID', 'IL', {'weight': 2.7235544564500236e-05}), ('ID', 'MN', {'weight': 1.7703103966925153e-05}), ('ID', 'MO', {'weight': 8.170663369350072e-06}), ('ID', 'MT', {'weight': 0.0002049474728478643}), ('ID', 'NE', {'weight': 8.170663369350072e-06}), ('ID', 'NV', {'weight': 0.00032818831200222786}), ('ID', 'NJ', {'weight': 6.808886141125059e-06}), ('ID', 'NM', {'weight': 1.15751064399126e-05}), ('ID', 'NY', {'weight': 1.5660438124587637e-05}), ('ID', 'NC', {'weight': 1.6341326738700144e-05}), ('ID', 'OH', {'weight': 8.170663369350072e-06}), ('ID', 'OR', {'weight': 0.0006672708418302559}), ('ID', 'TN', {'weight': 6.808886141125059e-06}), ('ID', 'TX', {'weight': 0.00011166573271445097}), ('ID', 'UT', {'weight': 0.0012201523964896106}), ('ID', 'VA', {'weight': 2.519287872216272e-05}), ('ID', 'WA', {'weight': 0.0018084401590828158}), ('ID', 'WI', {'weight': 8.170663369350072e-06}), ('ID', 'WY', {'weight': 7.898307923705069e-05}), ('MT', 'AK', {'weight': 7.347600273750593e-05}), ('MT', 'AZ', {'weight': 0.00034638687004824223}), ('MT', 'CA', {'weight': 0.00032014544049913297}), ('MT', 'CO', {'weight': 0.00033589029822859854}), ('MT', 'DC', {'weight': 1.0496571819643704e-05}), ('MT', 'FL', {'weight': 1.4695200547501187e-05}), ('MT', 'HI', {'weight': 1.0496571819643704e-05}), ('MT', 'ID', {'weight': 0.0002498184093075202}), ('MT', 'IL', {'weight': 3.9886972914646074e-05}), ('MT', 'MD', {'weight': 1.2595886183572446e-05}), ('MT', 'MN', {'weight': 3.463868700482423e-05}), ('MT', 'NE', {'weight': 1.2595886183572446e-05}), ('MT', 'NV', {'weight': 0.0001952362358453729}), ('MT', 'ND', {'weight': 8.082360301125652e-05}), ('MT', 'OR', {'weight': 0.0003337909838646698}), ('MT', 'SD', {'weight': 2.3092458003216148e-05}), ('MT', 'TX', {'weight': 3.2539372640895484e-05}), ('MT', 'UT', {'weight': 0.00018998794993555106}), ('MT', 'VA', {'weight': 1.0496571819643704e-05}), ('MT', 'WA', {'weight': 0.0010265647239611543}), ('MT', 'WY', {'weight': 0.000263463952673057}), ('NE', 'AL', {'weight': 1.4666950227704403e-05}), ('NE', 'AK', {'weight': 1.6359290638593372e-05}), ('NE', 'AZ', {'weight': 0.0003328269474748307}), ('NE', 'AR', {'weight': 1.6359290638593372e-05}), ('NE', 'CA', {'weight': 0.0003091341817223851}), ('NE', 'CO', {'weight': 0.0004405726203014284}), ('NE', 'CT', {'weight': 1.579517716829705e-05}), ('NE', 'DC', {'weight': 1.2974609816815432e-05}), ('NE', 'FL', {'weight': 0.00014384893492556242}), ('NE', 'GA', {'weight': 3.7795602509853654e-05}), ('NE', 'HI', {'weight': 2.9898013925705126e-05}), ('NE', 'ID', {'weight': 1.241049634651911e-05}), ('NE', 'IL', {'weight': 0.0002532869481630491}), ('NE', 'IN', {'weight': 1.9179857990074987e-05}), ('NE', 'IA', {'weight': 0.0010774567282659773}), ('NE', 'KS', {'weight': 0.0003012365931382366}), ('NE', 'MD', {'weight': 3.2718581277186745e-05}), ('NE', 'MA', {'weight': 2.820567351481616e-05}), ('NE', 'MI', {'weight': 1.2974609816815432e-05}), ('NE', 'MN', {'weight': 0.00017205460844037855}), ('NE', 'MO', {'weight': 0.00029108255067290275}), ('NE', 'NV', {'weight': 0.00010605333241570875}), ('NE', 'NJ', {'weight': 5.6411347029632314e-06}), ('NE', 'NM', {'weight': 2.8769786985112483e-05}), ('NE', 'NY', {'weight': 5.020609885637276e-05}), ('NE', 'NC', {'weight': 2.312865228214925e-05}), ('NE', 'ND', {'weight': 6.769361643555878e-06}), ('NE', 'OH', {'weight': 4.7949644975187466e-05}), ('NE', 'OK', {'weight': 4.569319109400218e-05}), ('NE', 'OR', {'weight': 4.005205639103894e-05}), ('NE', 'PA', {'weight': 5.6411347029632314e-06}), ('NE', 'SC', {'weight': 5.6411347029632314e-06}), ('NE', 'SD', {'weight': 0.00019518326072252783}), ('NE', 'TN', {'weight': 2.8769786985112483e-05}), ('NE', 'TX', {'weight': 0.00041123871984601957}), ('NE', 'UT', {'weight': 3.3282694747483065e-05}), ('NE', 'VA', {'weight': 7.333475113852201e-05}), ('NE', 'WA', {'weight': 9.98480842424492e-05}), ('NE', 'WI', {'weight': 3.3282694747483065e-05}), ('NE', 'WY', {'weight': 7.671943196029995e-05}), ('ND', 'AK', {'weight': 2.9256785264435144e-05}), ('ND', 'AZ', {'weight': 0.00034338226915626513}), ('ND', 'CA', {'weight': 0.00013242544909165382}), ('ND', 'CO', {'weight': 0.0001447440955187844}), ('ND', 'FL', {'weight': 5.851357052887029e-05}), ('ND', 'GA', {'weight': 1.6938138837304557e-05}), ('ND', 'IL', {'weight': 0.00013242544909165382}), ('ND', 'IA', {'weight': 1.6938138837304557e-05}), ('ND', 'MD', {'weight': 1.6938138837304557e-05}), ('ND', 'MN', {'weight': 0.0036848151125154368}), ('ND', 'MT', {'weight': 0.0001185669718611319}), ('ND', 'NE', {'weight': 7.391187856278352e-05}), ('ND', 'NV', {'weight': 0.00010162883302382734}), ('ND', 'OR', {'weight': 1.6938138837304557e-05}), ('ND', 'SD', {'weight': 0.0002833288678240035}), ('ND', 'TX', {'weight': 0.00011394747945095792}), ('ND', 'WA', {'weight': 0.0001462839263221757}), ('ND', 'WI', {'weight': 2.1557631247478527e-05}), ('SD', 'AZ', {'weight': 0.00030139215077780885}), ('SD', 'CA', {'weight': 0.00015963567308146655}), ('SD', 'CO', {'weight': 0.00025158582077639127}), ('SD', 'FL', {'weight': 4.72521592321141e-05}), ('SD', 'ID', {'weight': 1.660211000047252e-05}), ('SD', 'IL', {'weight': 5.236050077072103e-05}), ('SD', 'IA', {'weight': 0.00044314862847415117}), ('SD', 'KS', {'weight': 4.3420903078158906e-05}), ('SD', 'MN', {'weight': 0.0007126136446356667}), ('SD', 'MO', {'weight': 4.4697988462810635e-05}), ('SD', 'MT', {'weight': 6.0023013078631424e-05}), ('SD', 'NE', {'weight': 0.00034992139539457467}), ('SD', 'NV', {'weight': 0.0001021668307721386}), ('SD', 'ND', {'weight': 0.00023498371077591878}), ('SD', 'OR', {'weight': 3.320422000094504e-05}), ('SD', 'TX', {'weight': 7.917929384840741e-05}), ('SD', 'UT', {'weight': 3.448130538559678e-05}), ('SD', 'VA', {'weight': 1.532502461582079e-05}), ('SD', 'WA', {'weight': 6.257718384793489e-05}), ('SD', 'WI', {'weight': 1.9156280769775987e-05}), ('SD', 'WY', {'weight': 0.00035247556616387814}), ('WY', 'AK', {'weight': 3.8265281718570334e-05}), ('WY', 'AZ', {'weight': 0.0004132650425605596}), ('WY', 'CA', {'weight': 0.0002391580107410646}), ('WY', 'CO', {'weight': 0.0021352027198962248}), ('WY', 'ID', {'weight': 0.0002946426692329916}), ('WY', 'MT', {'weight': 0.0006485965251297671}), ('WY', 'NE', {'weight': 0.0001721937677335665}), ('WY', 'NV', {'weight': 0.0001951529367647087}), ('WY', 'OR', {'weight': 2.1045904945213684e-05}), ('WY', 'SC', {'weight': 1.9132640859285167e-05}), ('WY', 'SD', {'weight': 0.000285076348803349}), ('WY', 'TX', {'weight': 0.0001473213346164958}), ('WY', 'UT', {'weight': 0.0008112239724336911}), ('WY', 'WA', {'weight': 9.566320429642583e-05}), ('DE', 'AZ', {'weight': 0.00015245534571286257}), ('DE', 'CA', {'weight': 0.0002816350661260515}), ('DE', 'CO', {'weight': 4.422368806937998e-05}), ('DE', 'CT', {'weight': 6.982687589902103e-05}), ('DE', 'DC', {'weight': 0.00012103325155830311}), ('DE', 'FL', {'weight': 0.0008414138545832034}), ('DE', 'GA', {'weight': 0.00015478290824282994}), ('DE', 'HI', {'weight': 2.211184403468999e-05}), ('DE', 'IL', {'weight': 0.0001000851887885968}), ('DE', 'KS', {'weight': 1.2801593914820522e-05}), ('DE', 'KY', {'weight': 1.2801593914820522e-05}), ('DE', 'LA', {'weight': 2.3275625299673677e-05}), ('DE', 'MD', {'weight': 0.0023729499993017313}), ('DE', 'MA', {'weight': 9.31025011986947e-05}), ('DE', 'MI', {'weight': 4.189612553941262e-05}), ('DE', 'MN', {'weight': 2.094806276970631e-05}), ('DE', 'NV', {'weight': 6.866309463403734e-05}), ('DE', 'NJ', {'weight': 0.0009543006372866207}), ('DE', 'NY', {'weight': 0.00047715031864331033}), ('DE', 'NC', {'weight': 0.000316548504075562}), ('DE', 'OH', {'weight': 5.4697719454233136e-05}), ('DE', 'OR', {'weight': 2.5603187829641044e-05}), ('DE', 'PA', {'weight': 0.003079365227146827}), ('DE', 'RI', {'weight': 1.1637812649836838e-05}), ('DE', 'SC', {'weight': 8.379225107882524e-05}), ('DE', 'TN', {'weight': 2.676696909462473e-05}), ('DE', 'TX', {'weight': 0.00023624759679168782}), ('DE', 'VA', {'weight': 0.00033633278558028464}), ('DE', 'WA', {'weight': 3.4913437949510515e-05}), ('DE', 'WI', {'weight': 2.793075035960841e-05}), ('IA', 'AZ', {'weight': 0.00019948743463852876}), ('IA', 'AR', {'weight': 7.376005986634677e-06}), ('IA', 'CA', {'weight': 0.00017266559468712993}), ('IA', 'CO', {'weight': 9.58880778262508e-05}), ('IA', 'CT', {'weight': 3.6880029933173386e-06}), ('IA', 'DC', {'weight': 8.381824984812133e-06}), ('IA', 'FL', {'weight': 4.325021692163061e-05}), ('IA', 'GA', {'weight': 1.810474196719421e-05}), ('IA', 'HI', {'weight': 5.69964098967225e-06}), ('IA', 'ID', {'weight': 4.023275992709824e-06}), ('IA', 'IL', {'weight': 0.0008784152584083116}), ('IA', 'KS', {'weight': 8.985316383718607e-05}), ('IA', 'KY', {'weight': 3.352729993924853e-06}), ('IA', 'MD', {'weight': 3.6880029933173386e-06}), ('IA', 'MA', {'weight': 1.776946896780172e-05}), ('IA', 'MI', {'weight': 3.620948393438842e-05}), ('IA', 'MN', {'weight': 0.00033057917740099055}), ('IA', 'MO', {'weight': 0.0001552313987187207}), ('IA', 'NE', {'weight': 0.0006973678387363695}), ('IA', 'NV', {'weight': 3.9226940928920784e-05}), ('IA', 'NM', {'weight': 3.352729993924853e-06}), ('IA', 'NY', {'weight': 2.9168750947146222e-05}), ('IA', 'NC', {'weight': 1.944583396476415e-05}), ('IA', 'OH', {'weight': 2.011637996354912e-05}), ('IA', 'OK', {'weight': 8.381824984812133e-06}), ('IA', 'OR', {'weight': 2.0451652962941605e-05}), ('IA', 'PA', {'weight': 8.046551985419648e-06}), ('IA', 'SD', {'weight': 0.00017165977568895247}), ('IA', 'TN', {'weight': 7.040732987242192e-06}), ('IA', 'TX', {'weight': 0.00013310338075881668}), ('IA', 'UT', {'weight': 7.376005986634677e-06}), ('IA', 'VA', {'weight': 1.2740373976914442e-05}), ('IA', 'WA', {'weight': 3.520366493621096e-05}), ('IA', 'WI', {'weight': 0.00011801609578615484}), ('ME', 'AZ', {'weight': 0.0001291912551874822}), ('ME', 'CA', {'weight': 0.00021834077631100794}), ('ME', 'CO', {'weight': 4.835228264326819e-05}), ('ME', 'CT', {'weight': 0.00016545546716993333}), ('ME', 'DC', {'weight': 2.5687150154236226e-05}), ('ME', 'FL', {'weight': 0.00058853794029853}), ('ME', 'GA', {'weight': 3.626421198245114e-05}), ('ME', 'HI', {'weight': 1.5865592742322376e-05}), ('ME', 'IL', {'weight': 3.173118548464475e-05}), ('ME', 'LA', {'weight': 8.31054857931172e-06}), ('ME', 'MD', {'weight': 5.9684848887784176e-05}), ('ME', 'MA', {'weight': 0.0010705497578986098}), ('ME', 'NV', {'weight': 3.475320314984901e-05}), ('ME', 'NH', {'weight': 0.0010781048020616205}), ('ME', 'NJ', {'weight': 9.066052995612785e-06}), ('ME', 'NY', {'weight': 0.00019567564382197596}), ('ME', 'NC', {'weight': 7.252842396490228e-05}), ('ME', 'OH', {'weight': 1.2843575077118113e-05}), ('ME', 'OR', {'weight': 1.813210599122557e-05}), ('ME', 'PA', {'weight': 4.230824731285967e-05}), ('ME', 'RI', {'weight': 4.835228264326819e-05}), ('ME', 'SC', {'weight': 9.066052995612785e-06}), ('ME', 'TN', {'weight': 2.5687150154236226e-05}), ('ME', 'TX', {'weight': 5.439631797367671e-05}), ('ME', 'VT', {'weight': 5.666283122257991e-05}), ('ME', 'VA', {'weight': 7.479493721380548e-05}), ('ME', 'WA', {'weight': 4.5330264978063927e-05}), ('NH', 'AZ', {'weight': 0.00018496028321852293}), ('NH', 'CA', {'weight': 0.00037527065727394526}), ('NH', 'CO', {'weight': 3.210054502139654e-05}), ('NH', 'CT', {'weight': 0.00025909725624412923}), ('NH', 'DE', {'weight': 8.407285600841951e-06}), ('NH', 'DC', {'weight': 4.8150817532094815e-05}), ('NH', 'FL', {'weight': 0.0011334549587316922}), ('NH', 'GA', {'weight': 4.0507830622238495e-05}), ('NH', 'HI', {'weight': 2.751475287548275e-05}), ('NH', 'IL', {'weight': 9.018724553630457e-05}), ('NH', 'ME', {'weight': 0.0012060633343753272}), ('NH', 'MD', {'weight': 4.356502538618102e-05}), ('NH', 'MA', {'weight': 0.004098933879755944}), ('NH', 'MN', {'weight': 1.146448036478448e-05}), ('NH', 'NV', {'weight': 7.260837564363503e-05}), ('NH', 'NJ', {'weight': 7.260837564363503e-05}), ('NH', 'NM', {'weight': 1.0700181673798847e-05}), ('NH', 'NY', {'weight': 0.0003362914240336781}), ('NH', 'NC', {'weight': 0.00023311110075061774}), ('NH', 'OH', {'weight': 7.64298690985632e-06}), ('NH', 'OR', {'weight': 2.2164662038583327e-05}), ('NH', 'PA', {'weight': 7.87227651715201e-05}), ('NH', 'RI', {'weight': 0.00014215955652332755}), ('NH', 'SC', {'weight': 8.407285600841952e-05}), ('NH', 'TN', {'weight': 1.0700181673798847e-05}), ('NH', 'TX', {'weight': 0.00012534498532164364}), ('NH', 'UT', {'weight': 2.369325942055459e-05}), ('NH', 'VT', {'weight': 0.0007436626263290199}), ('NH', 'VA', {'weight': 0.0001413952578323419}), ('NH', 'WA', {'weight': 7.031547957067814e-05}), ('RI', 'AL', {'weight': 9.406488219314155e-06}), ('RI', 'AZ', {'weight': 0.00010535266805631852}), ('RI', 'CA', {'weight': 0.00045715532745866787}), ('RI', 'CO', {'weight': 3.480400641146237e-05}), ('RI', 'CT', {'weight': 0.0012651726654977536}), ('RI', 'DE', {'weight': 1.787232761669689e-05}), ('RI', 'DC', {'weight': 7.807385222030748e-05}), ('RI', 'FL', {'weight': 0.001578408723200915}), ('RI', 'GA', {'weight': 0.00014862251386516364}), ('RI', 'HI', {'weight': 5.926087578167917e-05}), ('RI', 'IL', {'weight': 7.33706081106504e-05}), ('RI', 'IN', {'weight': 1.0347137041245569e-05}), ('RI', 'KY', {'weight': 1.1287785863176985e-05}), ('RI', 'ME', {'weight': 0.00011475915627563268}), ('RI', 'MD', {'weight': 0.00014297862093357513}), ('RI', 'MA', {'weight': 0.0040240956602225954}), ('RI', 'MI', {'weight': 1.22284346851084e-05}), ('RI', 'MN', {'weight': 2.257557172635397e-05}), ('RI', 'MS', {'weight': 9.406488219314155e-06}), ('RI', 'MO', {'weight': 9.406488219314155e-06}), ('RI', 'NV', {'weight': 9.030228690541588e-05}), ('RI', 'NH', {'weight': 0.00020976468729070564}), ('RI', 'NJ', {'weight': 0.0001824858714546946}), ('RI', 'NM', {'weight': 1.3169083507039815e-05}), ('RI', 'NY', {'weight': 0.0008352961538750969}), ('RI', 'NC', {'weight': 0.00028877918833294453}), ('RI', 'OH', {'weight': 3.762595287725662e-05}), ('RI', 'OR', {'weight': 2.3516220548285384e-05}), ('RI', 'PA', {'weight': 0.00019753625260559725}), ('RI', 'SC', {'weight': 0.00012322499567301543}), ('RI', 'TN', {'weight': 1.6931678794765477e-05}), ('RI', 'TX', {'weight': 0.0001702574367695862}), ('RI', 'VT', {'weight': 1.881297643862831e-05}), ('RI', 'VA', {'weight': 0.00020882403846877423}), ('RI', 'WA', {'weight': 4.9854387562365014e-05}), ('VT', 'AZ', {'weight': 0.00010756278777059265}), ('VT', 'CA', {'weight': 0.0002777367505121273}), ('VT', 'CO', {'weight': 6.421658971378666e-05}), ('VT', 'CT', {'weight': 0.00020228225759842797}), ('VT', 'DC', {'weight': 5.2978686513873994e-05}), ('VT', 'FL', {'weight': 0.00017659562171291331}), ('VT', 'GA', {'weight': 1.765956217129133e-05}), ('VT', 'IL', {'weight': 6.903283394232066e-05}), ('VT', 'ME', {'weight': 0.0001669631332558453}), ('VT', 'MD', {'weight': 1.9264976914136e-05}), ('VT', 'MA', {'weight': 0.0012570397436473739}), ('VT', 'MN', {'weight': 1.9264976914136e-05}), ('VT', 'NV', {'weight': 2.247580639982533e-05}), ('VT', 'NH', {'weight': 0.0017242154338151718}), ('VT', 'NJ', {'weight': 3.8529953828272e-05}), ('VT', 'NY', {'weight': 0.0009215080623928385}), ('VT', 'NC', {'weight': 9.311405508499066e-05}), ('VT', 'OH', {'weight': 1.6054147428446664e-05}), ('VT', 'OR', {'weight': 3.3713709599738e-05}), ('VT', 'PA', {'weight': 5.618951599956333e-05}), ('VT', 'RI', {'weight': 3.8529953828272e-05}), ('VT', 'SC', {'weight': 1.6054147428446664e-05}), ('VT', 'TX', {'weight': 1.9264976914136e-05}), ('VT', 'UT', {'weight': 8.829781085645666e-05}), ('VT', 'VA', {'weight': 1.6054147428446664e-05}), ('VT', 'WA', {'weight': 7.384907817085465e-05}), ('WV', 'AZ', {'weight': 2.6806542109248148e-05}), ('WV', 'CA', {'weight': 2.461825295747279e-05}), ('WV', 'DC', {'weight': 1.6412168638315194e-05}), ('WV', 'FL', {'weight': 2.6806542109248148e-05}), ('WV', 'GA', {'weight': 5.470722879438398e-06}), ('WV', 'IL', {'weight': 1.5318024062427514e-05}), ('WV', 'KY', {'weight': 0.0001236383370753078}), ('WV', 'MD', {'weight': 0.00043820490264301565}), ('WV', 'MA', {'weight': 5.470722879438398e-06}), ('WV', 'NY', {'weight': 6.564867455326077e-06}), ('WV', 'NC', {'weight': 0.00010886738530082411}), ('WV', 'OH', {'weight': 0.0008036491909895006}), ('WV', 'PA', {'weight': 0.0003326199510698546}), ('WV', 'SC', {'weight': 5.1971867354664776e-05}), ('WV', 'TN', {'weight': 1.1488518046820635e-05}), ('WV', 'TX', {'weight': 6.017795167382237e-06}), ('WV', 'VA', {'weight': 0.0004912709145735681})]\n"
     ]
    }
   ],
   "source": [
    "# Rename the columns in the new DataFrame\n",
    "state_migration_2006.columns = ['source state', 'target state', 'migration']\n",
    "\n",
    "# Mapping to names\n",
    "state_fips_to_code = {\n",
    "    1: 'AL', 2: 'AK', 4: 'AZ', 5: 'AR', 6: 'CA', 8: 'CO', 9: 'CT', 10: 'DE', 11: 'DC', 12: 'FL', 13: 'GA',\n",
    "    15: 'HI', 16: 'ID', 17: 'IL', 18: 'IN', 19: 'IA', 20: 'KS', 21: 'KY', 22: 'LA', 23: 'ME', 24: 'MD',\n",
    "    25: 'MA', 26: 'MI', 27: 'MN', 28: 'MS', 29: 'MO', 30: 'MT', 31: 'NE', 32: 'NV', 33: 'NH', 34: 'NJ',\n",
    "    35: 'NM', 36: 'NY', 37: 'NC', 38: 'ND', 39: 'OH', 40: 'OK', 41: 'OR', 42: 'PA', 44: 'RI', 45: 'SC',\n",
    "    46: 'SD', 47: 'TN', 48: 'TX', 49: 'UT', 50: 'VT', 51: 'VA', 53: 'WA', 54: 'WV', 55: 'WI', 56: 'WY'\n",
    "}\n",
    "\n",
    "# Convert the state FIPS codes to state codes\n",
    "state_migration_2006['source state'] = state_migration_2006['source state'].map(state_fips_to_code)\n",
    "state_migration_2006['target state'] = state_migration_2006['target state'].map(state_fips_to_code)\n",
    "\n",
    "# remove all the ones that have 0 migration\n",
    "state_migration_2006 = state_migration_2006[state_migration_2006['migration'] != 0]\n",
    "\n",
    "# convert migration to flux (normalize wrt 2006 population) https://fred.stlouisfed.org/release/tables?rid=118&eid=259194&od=2006-01-01\n",
    "state_code_to_population = {\n",
    "    'AL': 4628981, 'AK': 675302, 'AZ': 6029141, 'AR': 2821761, 'CA': 36021202, 'CO': 4720423, 'CT': 3517460, 'DE': 859268, 'DC': 570681, 'FL': 18166990, 'GA': 9155813,\n",
    "    'HI': 1309731, 'ID': 1468669, 'IL': 12643955, 'IN': 6332669, 'IA': 2982644, 'KS': 2762931, 'KY': 4219239, 'LA': 4302665, 'ME': 1323619, 'MD': 5627367, 'MA': 6410084, 'MI': 10036081, 'MN': 5163555, 'MS': 2904878, 'MO': 5842704, 'MT': 952692, 'NE': 1772693, 'NV': 2522658, 'NH': 1308389, 'NJ': 8661679, 'NM': 1962137, 'NY': 19104631, 'NC': 8917270, 'ND': 649422, 'OH': 11481213, 'OK': 3594090, 'OR': 3670883, 'PA': 12510809, 'RI': 1063096, 'SC': 4357847, 'SD': 783033, 'TN': 6088766, 'TX': 23359580, 'UT': 2525507, 'VT': 622892, 'VA': 7673725, 'WA': 6370753, 'WV': 1827912, 'WI': 5577655, 'WY': 522667\n",
    "}\n",
    "\n",
    "state_migration_2006['migration_flux'] = state_migration_2006['migration'] / state_migration_2006['source state'].map(state_code_to_population)\n",
    "\n",
    "# Create an empty directed graph\n",
    "G_state = nx.DiGraph()\n",
    "\n",
    "# Iterate through the rows in the DataFrame and add edges to the graph\n",
    "for index, row in state_migration_2006.iterrows():\n",
    "    source = row['source state']\n",
    "    target = row['target state']\n",
    "    weight = row['migration_flux']\n",
    "    G_state.add_edge(source, target, weight=weight)\n",
    "\n",
    "# Print the graph's nodes and edges\n",
    "print(\"Nodes:\", G_state.nodes())\n",
    "print(\"Edges:\", G_state.edges(data=True))\n",
    "with open(\"/Users/zasghar.19/Desktop/eeps1720/NetworkAnalysis/graph_2006.p\", 'wb') as f:\n",
    "    pickle.dump(G_state, f)"
   ]
  }
 ],
 "metadata": {
  "file_extension": ".py",
  "kernelspec": {
   "display_name": "Python 3.8.6 64-bit ('3.8.6': pyenv)",
   "name": "python38664bit386pyenv49c8da40f75d4a52ab4a97a513a5f232"
  },
  "language_info": {
   "codemirror_mode": {
    "name": "ipython",
    "version": 3
   },
   "name": "python",
   "version": "3.10.8"
  },
  "mimetype": "text/x-python",
  "name": "python",
  "npconvert_exporter": "python",
  "orig_nbformat": 2,
  "pygments_lexer": "ipython3",
  "version": 3
 },
 "nbformat": 4,
 "nbformat_minor": 2
}