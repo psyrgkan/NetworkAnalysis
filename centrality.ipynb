{
 "nbformat": 4,
 "nbformat_minor": 2,
 "metadata": {
  "language_info": {
   "name": "python",
   "codemirror_mode": {
    "name": "ipython",
    "version": 3
   }
  },
  "orig_nbformat": 2,
  "file_extension": ".py",
  "mimetype": "text/x-python",
  "name": "python",
  "npconvert_exporter": "python",
  "pygments_lexer": "ipython3",
  "version": 3
 },
 "cells": [
  {
   "cell_type": "code",
   "execution_count": null,
   "metadata": {},
   "outputs": [],
   "source": [
    "import pandas as pd\n",
    "import numpy as np\n",
    "import networkx as nx\n",
    "import pickle"
   ]
  },
  {
   "cell_type": "code",
   "execution_count": null,
   "metadata": {},
   "outputs": [],
   "source": [
    "# Load graph\n",
    "with open(\"/Users/zasghar.19/Desktop/eeps1720/NetworkAnalysis/graph_2006.p\", 'rb') as f:  # notice the r instead of w\n",
    "    g_2006 = pickle.load(f)"
   ]
  },
  {
   "cell_type": "code",
   "execution_count": null,
   "metadata": {},
   "outputs": [],
   "source": [
    "# Load graph\n",
    "with open(\"/Users/zasghar.19/Desktop/eeps1720/NetworkAnalysis/median_graph.p\", 'rb') as f:  # notice the r instead of w\n",
    "    g_median = pickle.load(f)"
   ]
  },
  {
   "cell_type": "code",
   "execution_count": null,
   "metadata": {},
   "outputs": [],
   "source": [
    "g_2006.edges(data=True)"
   ]
  },
  {
   "cell_type": "code",
   "execution_count": null,
   "metadata": {},
   "outputs": [],
   "source": [
    "nx.degree_centrality(g_2006)\n",
    "# nx.closeness_centrality(g_2006, distance='weight')\n",
    "nx.eigenvector_centrality(g_2006, max_iter=5000, weight='weight')\n",
    "nx.pagerank(g_2006)\n",
    "nx.betweenness_centrality(g_2006, weight='weight')\n",
    "nx.hits(g_2006)"
   ]
  },
  {
   "cell_type": "code",
   "execution_count": null,
   "metadata": {},
   "outputs": [],
   "source": [
    "nx.degree_centrality(g_median)"
   ]
  }
 ]
}