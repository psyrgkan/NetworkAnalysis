{
 "nbformat": 4,
 "nbformat_minor": 2,
 "metadata": {
  "language_info": {
   "name": "python",
   "codemirror_mode": {
    "name": "ipython",
    "version": 3
   },
   "version": "3.7.7-final"
  },
  "orig_nbformat": 2,
  "file_extension": ".py",
  "mimetype": "text/x-python",
  "name": "python",
  "npconvert_exporter": "python",
  "pygments_lexer": "ipython3",
  "version": 3,
  "kernelspec": {
   "name": "python3",
   "display_name": "Python 3"
  }
 },
 "cells": [
  {
   "cell_type": "code",
   "execution_count": 1,
   "metadata": {},
   "outputs": [],
   "source": [
    "import pandas as pd\n",
    "import numpy as np\n",
    "import networkx as nx\n",
    "import pickle"
   ]
  },
  {
   "cell_type": "code",
   "execution_count": 4,
   "metadata": {},
   "outputs": [],
   "source": [
    "# Load graph\n",
    "with open(\"/Users/zasghar.19/Desktop/eeps1720/NetworkAnalysis/graph_2006.p\", 'rb') as f:  # notice the r instead of w\n",
    "    g_2006 = pickle.load(f)"
   ]
  },
  {
   "cell_type": "code",
   "execution_count": 2,
   "metadata": {},
   "outputs": [],
   "source": [
    "# Load graph\n",
    "with open(\"/Users/zasghar.19/Desktop/eeps1720/NetworkAnalysis/median_graph.p\", 'rb') as f:  # notice the r instead of w\n",
    "    g_median = pickle.load(f)"
   ]
  },
  {
   "cell_type": "code",
   "execution_count": null,
   "metadata": {},
   "outputs": [],
   "source": [
    "g_2006.edges(data=True)"
   ]
  },
  {
   "cell_type": "code",
   "execution_count": 5,
   "metadata": {},
   "outputs": [
    {
     "data": {
      "text/plain": "({'AL': 0.004663792854460673,\n  'AK': 0.01322080171106671,\n  'AZ': 0.01602340807228078,\n  'AR': 0.00287351117366319,\n  'CA': 0.007670082132299719,\n  'CO': 0.01248809441975885,\n  'CT': 0.022555103704063138,\n  'DC': 0.3990313492467901,\n  'FL': 0.014510680639037698,\n  'GA': 0.01057228592687984,\n  'HI': 0.034459364675084904,\n  'IL': 0.008472028478046722,\n  'IN': 0.004894964767083424,\n  'KS': 0.0059237795554396636,\n  'KY': 0.003393487214681301,\n  'LA': 0.006250295158183561,\n  'MD': 0.027665462931691254,\n  'MA': 0.018997722690971858,\n  'MI': 0.007448616964124154,\n  'MN': 0.005192596204524513,\n  'MS': 0.002765219996679905,\n  'MO': 0.005211594480379818,\n  'NV': 0.027009469780081823,\n  'NJ': 0.025390346282087844,\n  'NM': 0.009340354304279777,\n  'NY': 0.017103400966403462,\n  'NC': 0.01329457406477753,\n  'OH': 0.007434956675486647,\n  'OK': 0.005502177549417076,\n  'OR': 0.009968082723809996,\n  'PA': 0.017232987940175016,\n  'SC': 0.009476124506962297,\n  'TN': 0.0063157855288258425,\n  'TX': 0.006858336970515785,\n  'UT': 0.009202800525808704,\n  'VA': 0.033341913472267816,\n  'WA': 0.0123569582768972,\n  'WI': 0.004587626462545564,\n  'ID': 0.005152866403579348,\n  'MT': 0.0032344055922464083,\n  'NE': 0.004881801768785974,\n  'ND': 0.002889023985856026,\n  'SD': 0.0017956935834873837,\n  'WY': 0.003118645851215613,\n  'DE': 0.06023227344711087,\n  'IA': 0.0028097956815297163,\n  'ME': 0.007245418439117187,\n  'NH': 0.01557791479784584,\n  'RI': 0.021901155437879447,\n  'VT': 0.008568082252645503,\n  'WV': 0.013892783731166517},\n {'AL': 0.0025282669129610773,\n  'AK': 0.0012087219368209178,\n  'AZ': 0.01389479092487458,\n  'AR': 0.0014524355080705736,\n  'CA': 0.06862801290807138,\n  'CO': 0.01098148174785417,\n  'CT': 0.00926338464019933,\n  'DC': 0.0040042816154169745,\n  'FL': 0.03985834724744421,\n  'GA': 0.017723751137276502,\n  'HI': 0.003767614739362791,\n  'IL': 0.02066745290499121,\n  'IN': 0.0023325860920651873,\n  'KS': 0.0016555015952854242,\n  'KY': 0.001769994873083939,\n  'LA': 0.0032334378307372945,\n  'MD': 0.34268681498326475,\n  'MA': 0.030308373675875522,\n  'MI': 0.0048502247364936996,\n  'MN': 0.00534555874983072,\n  'MS': 0.001178521619799475,\n  'MO': 0.004811644805478239,\n  'NV': 0.007391666170451466,\n  'NJ': 0.01600048883667134,\n  'NM': 0.00328920370584712,\n  'NY': 0.06800335692447136,\n  'NC': 0.02536155055528,\n  'OH': 0.008266158319193395,\n  'OK': 0.00155323663777812,\n  'OR': 0.007092267140285952,\n  'PA': 0.03265914114141358,\n  'SC': 0.006624624800181077,\n  'TN': 0.005599779476983064,\n  'TX': 0.025353307404227143,\n  'UT': 0.0037056624897566534,\n  'VA': 0.15727874789266702,\n  'WA': 0.014306279144667599,\n  'WI': 0.0029183872630531866,\n  'ID': 0.0017360870577735794,\n  'MT': 0.000698914486202379,\n  'NE': 0.0010980875234322738,\n  'ND': 0.0003129327522462757,\n  'SD': 0.0003341307803438098,\n  'WY': 0.0004569990049122876,\n  'DE': 0.004613499044867634,\n  'IA': 0.0011686720235792839,\n  'ME': 0.002265930182187466,\n  'NH': 0.0034269066023889807,\n  'RI': 0.0029438175886974103,\n  'VT': 0.0018503577899288191,\n  'WV': 0.0015386060752537243})"
     },
     "execution_count": 5,
     "metadata": {},
     "output_type": "execute_result"
    }
   ],
   "source": [
    "nx.degree_centrality(g_2006)\n",
    "# nx.closeness_centrality(g_2006, distance='weight')\n",
    "nx.eigenvector_centrality(g_2006, max_iter=5000, weight='weight')\n",
    "nx.pagerank(g_2006)\n",
    "nx.betweenness_centrality(g_2006, weight='weight')\n",
    "nx.hits(g_2006)"
   ]
  },
  {
   "cell_type": "code",
   "execution_count": 6,
   "metadata": {},
   "outputs": [
    {
     "data": {
      "text/plain": "{'AL': 1.32,\n 'AK': 1.6,\n 'AZ': 1.98,\n 'AR': 1.32,\n 'CA': 2.0,\n 'CO': 1.94,\n 'DC': 1.76,\n 'FL': 1.8800000000000001,\n 'GA': 1.7,\n 'HI': 1.82,\n 'IL': 1.96,\n 'IN': 1.58,\n 'KS': 1.56,\n 'KY': 1.44,\n 'LA': 1.5,\n 'MD': 1.78,\n 'MA': 1.7,\n 'MI': 1.6,\n 'MN': 1.86,\n 'MS': 1.22,\n 'MO': 1.6400000000000001,\n 'NE': 1.58,\n 'NV': 1.94,\n 'NM': 1.62,\n 'NY': 1.72,\n 'NC': 1.78,\n 'OH': 1.78,\n 'OK': 1.48,\n 'PA': 1.7,\n 'SC': 1.48,\n 'TN': 1.68,\n 'TX': 1.98,\n 'VA': 1.84,\n 'WA': 1.96,\n 'ID': 0.8,\n 'MT': 0.64,\n 'NJ': 1.4000000000000001,\n 'ND': 0.62,\n 'OR': 1.6,\n 'SD': 0.72,\n 'UT': 1.62,\n 'WY': 0.58,\n 'CT': 1.46,\n 'DE': 1.08,\n 'IA': 1.16,\n 'ME': 1.04,\n 'NH': 1.1,\n 'RI': 1.06,\n 'VT': 0.8200000000000001,\n 'WI': 1.56,\n 'WV': 0.52}"
     },
     "execution_count": 6,
     "metadata": {},
     "output_type": "execute_result"
    }
   ],
   "source": [
    "nx.degree_centrality(g_median)"
   ]
  }
 ]
}