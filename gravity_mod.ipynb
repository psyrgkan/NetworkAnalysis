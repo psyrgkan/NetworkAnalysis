{
 "nbformat": 4,
 "nbformat_minor": 2,
 "metadata": {
  "language_info": {
   "name": "python",
   "codemirror_mode": {
    "name": "ipython",
    "version": 3
   },
   "version": "3.8.6-final"
  },
  "orig_nbformat": 2,
  "file_extension": ".py",
  "mimetype": "text/x-python",
  "name": "python",
  "npconvert_exporter": "python",
  "pygments_lexer": "ipython3",
  "version": 3,
  "kernelspec": {
   "name": "python38664bit386pyenv49c8da40f75d4a52ab4a97a513a5f232",
   "display_name": "Python 3.8.6 64-bit ('3.8.6': pyenv)"
  }
 },
 "cells": [
  {
   "cell_type": "code",
   "execution_count": 3,
   "metadata": {},
   "outputs": [],
   "source": [
    "import pandas as pd\n",
    "import numpy as np\n",
    "# import networkx as nx\n",
    "import pickle\n",
    "import statsmodels.api as sm\n",
    "# import sklearn.metrics.pairwise as pw"
   ]
  },
  {
   "cell_type": "code",
   "execution_count": 41,
   "metadata": {},
   "outputs": [],
   "source": [
    "# Load dataframe median\n",
    "with open(\"./state_mig_median.pkl\", 'rb') as f:  # notice the r instead of w\n",
    "    df_median = pickle.load(f)"
   ]
  },
  {
   "cell_type": "code",
   "execution_count": 18,
   "metadata": {},
   "outputs": [
    {
     "data": {
      "text/plain": "Index(['source state', 'target state', 'migration', 'migration_flux',\n       'source population', 'target population', 'distance',\n       'disasters_median_source', 'ihProgramDeclared_median_source',\n       'iaProgramDeclared_median_source', 'paProgramDeclared_median_source',\n       'hmProgramDeclared_median_source', 'disasters_mean_source',\n       'ihProgramDeclared_mean_source', 'iaProgramDeclared_mean_source',\n       'paProgramDeclared_mean_source', 'hmProgramDeclared_mean_source',\n       'disasters_median_target', 'ihProgramDeclared_median_target',\n       'iaProgramDeclared_median_target', 'paProgramDeclared_median_target',\n       'hmProgramDeclared_median_target', 'disasters_mean_target',\n       'ihProgramDeclared_mean_target', 'iaProgramDeclared_mean_target',\n       'paProgramDeclared_mean_target', 'hmProgramDeclared_mean_target'],\n      dtype='object')"
     },
     "execution_count": 18,
     "metadata": {},
     "output_type": "execute_result"
    }
   ],
   "source": [
    "df_median.columns"
   ]
  },
  {
   "cell_type": "code",
   "execution_count": 43,
   "metadata": {},
   "outputs": [
    {
     "name": "stdout",
     "output_type": "stream",
     "text": "OLS Regression Results                            \n==============================================================================\nDep. Variable:         migration_flux   R-squared:                       0.142\nModel:                            OLS   Adj. R-squared:                  0.137\nMethod:                 Least Squares   F-statistic:                     28.21\nDate:                Tue, 02 May 2023   Prob (F-statistic):           3.24e-55\nTime:                        11:02:54   Log-Likelihood:                 3941.7\nNo. Observations:                1887   AIC:                            -7859.\nDf Residuals:                    1875   BIC:                            -7793.\nDf Model:                          11                                         \nCovariance Type:            nonrobust                                         \n======================================================================================================\n                                         coef    std err          t      P>|t|      [0.025      0.975]\n------------------------------------------------------------------------------------------------------\nconst                                  0.0589      0.004     13.158      0.000       0.050       0.068\nln_source population                  -0.0143      0.004     -3.348      0.001      -0.023      -0.006\nln_target population                   0.0274      0.004      6.388      0.000       0.019       0.036\nln_distance                           -0.0625      0.005    -13.507      0.000      -0.072      -0.053\nln_disasters_median_source            -0.0111      0.018     -0.603      0.547      -0.047       0.025\nln_ihProgramDeclared_median_source  1.363e-18   9.99e-18      0.136      0.891   -1.82e-17     2.1e-17\nln_iaProgramDeclared_median_source     0.0061      0.004      1.591      0.112      -0.001       0.014\nln_paProgramDeclared_median_source    -0.0085      0.017     -0.502      0.616      -0.042       0.025\nln_hmProgramDeclared_median_source     0.0028      0.004      0.772      0.440      -0.004       0.010\nln_disasters_median_target            -0.0146      0.018     -0.793      0.428      -0.051       0.022\nln_ihProgramDeclared_median_target  6.146e-18   2.44e-18      2.520      0.012    1.36e-18    1.09e-17\nln_iaProgramDeclared_median_target     0.0005      0.004      0.130      0.897      -0.007       0.008\nln_paProgramDeclared_median_target     0.0028      0.017      0.165      0.869      -0.031       0.036\nln_hmProgramDeclared_median_target     0.0035      0.004      0.948      0.343      -0.004       0.011\n==============================================================================\nOmnibus:                     4055.778   Durbin-Watson:                   1.976\nProb(Omnibus):                  0.000   Jarque-Bera (JB):         20600978.004\nSkew:                          18.271   Prob(JB):                         0.00\nKurtosis:                     513.569   Cond. No.                     1.94e+18\n==============================================================================\n\nNotes:\n[1] Standard Errors assume that the covariance matrix of the errors is correctly specified.\n[2] The smallest eigenvalue is 1.6e-33. This might indicate that there are\nstrong multicollinearity problems or that the design matrix is singular.\n"
    }
   ],
   "source": [
    "# defining the variables\n",
    "cols = ['source population', 'target population', 'distance', 'disasters_median_source', 'ihProgramDeclared_median_source', 'iaProgramDeclared_median_source', 'paProgramDeclared_median_source','hmProgramDeclared_median_source', 'disasters_median_target', 'ihProgramDeclared_median_target', 'iaProgramDeclared_median_target', 'paProgramDeclared_median_target', 'hmProgramDeclared_median_target']\n",
    "input_cols = []\n",
    "\n",
    "# add 1 to remove problems from exponential\n",
    "df_median[['disasters_median_source', 'ihProgramDeclared_median_source', 'iaProgramDeclared_median_source', 'paProgramDeclared_median_source','hmProgramDeclared_median_source', 'disasters_median_target', 'ihProgramDeclared_median_target', 'iaProgramDeclared_median_target', 'paProgramDeclared_median_target', 'hmProgramDeclared_median_target']] += 1\n",
    "\n",
    "for col in cols:\n",
    "    col_name = 'ln_' + col \n",
    "    input_cols.append(col_name)\n",
    "    df_median[col_name] = np.log(df_median[col])\n",
    "\n",
    "df_median[input_cols] = (df_median[input_cols] - df_median[input_cols].min(axis=0))/(df_median[input_cols].max(axis=0) - df_median[input_cols].min(axis=0) + 1e-10)\n",
    "df_median['migration_flux'] = (df_median['migration_flux'] - df_median['migration_flux'].min()) / (df_median['migration_flux'].max() - df_median['migration_flux'].min() + 1e-10)\n",
    "\n",
    "x = df_median[input_cols]\n",
    "y = df_median['migration_flux']\n",
    " \n",
    "# adding the constant term\n",
    "x = sm.add_constant(x)\n",
    " \n",
    "# performing the regression\n",
    "# and fitting the model\n",
    "result = sm.OLS(y, x).fit()\n",
    " \n",
    "# # printing the summary table\n",
    "print(result.summary())"
   ]
  },
  {
   "cell_type": "code",
   "execution_count": 45,
   "metadata": {},
   "outputs": [],
   "source": [
    "# Load dataframe median\n",
    "with open(\"./state_mig_2006.pkl\", 'rb') as f:  # notice the r instead of w\n",
    "    df_2006 = pickle.load(f)"
   ]
  },
  {
   "cell_type": "code",
   "execution_count": 25,
   "metadata": {},
   "outputs": [
    {
     "data": {
      "text/plain": "Index(['source state', 'target state', 'migration', 'migration_flux',\n       'source population', 'target population', 'distance',\n       'ihProgramDeclared_source', 'iaProgramDeclared_source',\n       'paProgramDeclared_source', 'hmProgramDeclared_source',\n       'disasters_source', 'ihProgramDeclared_target',\n       'iaProgramDeclared_target', 'paProgramDeclared_target',\n       'hmProgramDeclared_target', 'disasters_target'],\n      dtype='object')"
     },
     "execution_count": 25,
     "metadata": {},
     "output_type": "execute_result"
    }
   ],
   "source": [
    "df_2006.columns"
   ]
  },
  {
   "cell_type": "code",
   "execution_count": 46,
   "metadata": {},
   "outputs": [
    {
     "name": "stdout",
     "output_type": "stream",
     "text": "OLS Regression Results                            \n==============================================================================\nDep. Variable:         migration_flux   R-squared:                       0.159\nModel:                            OLS   Adj. R-squared:                  0.154\nMethod:                 Least Squares   F-statistic:                     33.69\nDate:                Tue, 02 May 2023   Prob (F-statistic):           2.76e-66\nTime:                        11:05:07   Log-Likelihood:                 4125.4\nNo. Observations:                1977   AIC:                            -8227.\nDf Residuals:                    1965   BIC:                            -8160.\nDf Model:                          11                                         \nCovariance Type:            nonrobust                                         \n===============================================================================================\n                                  coef    std err          t      P>|t|      [0.025      0.975]\n-----------------------------------------------------------------------------------------------\nconst                           0.0539      0.004     13.187      0.000       0.046       0.062\nln_source population           -0.0185      0.003     -5.520      0.000      -0.025      -0.012\nln_target population            0.0213      0.003      6.275      0.000       0.015       0.028\nln_distance                    -0.0715      0.005    -15.337      0.000      -0.081      -0.062\nln_disasters_source            -0.0400      0.023     -1.772      0.077      -0.084       0.004\nln_ihProgramDeclared_source     0.0014      0.002      0.902      0.367      -0.002       0.004\nln_iaProgramDeclared_source     0.0014      0.002      0.902      0.367      -0.002       0.004\nln_paProgramDeclared_source     0.0506      0.018      2.786      0.005       0.015       0.086\nln_hmProgramDeclared_source    -0.0080      0.012     -0.670      0.503      -0.031       0.015\nln_disasters_target            -0.0336      0.022     -1.501      0.134      -0.077       0.010\nln_ihProgramDeclared_target    -0.0002      0.002     -0.151      0.880      -0.003       0.003\nln_iaProgramDeclared_target    -0.0002      0.002     -0.151      0.880      -0.003       0.003\nln_paProgramDeclared_target     0.0586      0.018      3.260      0.001       0.023       0.094\nln_hmProgramDeclared_target    -0.0124      0.012     -1.053      0.293      -0.036       0.011\n==============================================================================\nOmnibus:                     4168.627   Durbin-Watson:                   1.918\nProb(Omnibus):                  0.000   Jarque-Bera (JB):         19744562.450\nSkew:                          17.514   Prob(JB):                         0.00\nKurtosis:                     491.328   Cond. No.                     5.14e+16\n==============================================================================\n\nNotes:\n[1] Standard Errors assume that the covariance matrix of the errors is correctly specified.\n[2] The smallest eigenvalue is 2.32e-30. This might indicate that there are\nstrong multicollinearity problems or that the design matrix is singular.\n"
    }
   ],
   "source": [
    "# defining the variables\n",
    "cols = ['source population', 'target population', 'distance', 'disasters_source', 'ihProgramDeclared_source', 'iaProgramDeclared_source', 'paProgramDeclared_source','hmProgramDeclared_source', 'disasters_target', 'ihProgramDeclared_target', 'iaProgramDeclared_target', 'paProgramDeclared_target', 'hmProgramDeclared_target']\n",
    "input_cols = []\n",
    "\n",
    "# add 1 to remove problems from exponential\n",
    "df_2006[['disasters_source', 'ihProgramDeclared_source', 'iaProgramDeclared_source', 'paProgramDeclared_source','hmProgramDeclared_source', 'disasters_target', 'ihProgramDeclared_target', 'iaProgramDeclared_target', 'paProgramDeclared_target', 'hmProgramDeclared_target']] += 1\n",
    "\n",
    "for col in cols:\n",
    "    col_name = 'ln_' + col \n",
    "    input_cols.append(col_name)\n",
    "    df_2006[col_name] = np.log(df_2006[col])\n",
    "\n",
    "df_2006[input_cols] = (df_2006[input_cols] - df_2006[input_cols].min(axis=0))/(df_2006[input_cols].max(axis=0) - df_2006[input_cols].min(axis=0) + 1e-10)\n",
    "df_2006['migration_flux'] = (df_2006['migration_flux'] - df_2006['migration_flux'].min()) / (df_2006['migration_flux'].max() - df_2006['migration_flux'].min() + 1e-10)\n",
    "\n",
    "x = df_2006[input_cols]\n",
    "y = df_2006['migration_flux']\n",
    " \n",
    "# adding the constant term\n",
    "x = sm.add_constant(x)\n",
    " \n",
    "# performing the regression\n",
    "# and fitting the model\n",
    "result = sm.OLS(y, x).fit()\n",
    " \n",
    "# # printing the summary table\n",
    "print(result.summary())"
   ]
  }
 ]
}