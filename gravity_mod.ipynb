{
 "nbformat": 4,
 "nbformat_minor": 2,
 "metadata": {
  "language_info": {
   "name": "python",
   "codemirror_mode": {
    "name": "ipython",
    "version": 3
   },
   "version": "3.8.6-final"
  },
  "orig_nbformat": 2,
  "file_extension": ".py",
  "mimetype": "text/x-python",
  "name": "python",
  "npconvert_exporter": "python",
  "pygments_lexer": "ipython3",
  "version": 3,
  "kernelspec": {
   "name": "python38664bit386pyenv49c8da40f75d4a52ab4a97a513a5f232",
   "display_name": "Python 3.8.6 64-bit ('3.8.6': pyenv)"
  }
 },
 "cells": [
  {
   "cell_type": "code",
   "execution_count": 3,
   "metadata": {},
   "outputs": [],
   "source": [
    "import pandas as pd\n",
    "import numpy as np\n",
    "# import networkx as nx\n",
    "import pickle\n",
    "import statsmodels.api as sm\n",
    "# import sklearn.metrics.pairwise as pw"
   ]
  },
  {
   "cell_type": "code",
   "execution_count": 15,
   "metadata": {},
   "outputs": [],
   "source": [
    "# Load dataframe median\n",
    "with open(\"./state_mig_median.pkl\", 'rb') as f:  # notice the r instead of w\n",
    "    df_median = pickle.load(f)"
   ]
  },
  {
   "cell_type": "code",
   "execution_count": 18,
   "metadata": {},
   "outputs": [
    {
     "data": {
      "text/plain": "Index(['source state', 'target state', 'migration', 'migration_flux',\n       'source population', 'target population', 'distance',\n       'disasters_median_source', 'ihProgramDeclared_median_source',\n       'iaProgramDeclared_median_source', 'paProgramDeclared_median_source',\n       'hmProgramDeclared_median_source', 'disasters_mean_source',\n       'ihProgramDeclared_mean_source', 'iaProgramDeclared_mean_source',\n       'paProgramDeclared_mean_source', 'hmProgramDeclared_mean_source',\n       'disasters_median_target', 'ihProgramDeclared_median_target',\n       'iaProgramDeclared_median_target', 'paProgramDeclared_median_target',\n       'hmProgramDeclared_median_target', 'disasters_mean_target',\n       'ihProgramDeclared_mean_target', 'iaProgramDeclared_mean_target',\n       'paProgramDeclared_mean_target', 'hmProgramDeclared_mean_target'],\n      dtype='object')"
     },
     "execution_count": 18,
     "metadata": {},
     "output_type": "execute_result"
    }
   ],
   "source": [
    "df_median.columns"
   ]
  },
  {
   "cell_type": "code",
   "execution_count": 20,
   "metadata": {},
   "outputs": [
    {
     "name": "stdout",
     "output_type": "stream",
     "text": "OLS Regression Results                            \n==============================================================================\nDep. Variable:         migration_flux   R-squared:                       0.142\nModel:                            OLS   Adj. R-squared:                  0.137\nMethod:                 Least Squares   F-statistic:                     28.25\nDate:                Mon, 01 May 2023   Prob (F-statistic):           2.65e-55\nTime:                        12:19:16   Log-Likelihood:                 11604.\nNo. Observations:                1887   AIC:                        -2.318e+04\nDf Residuals:                    1875   BIC:                        -2.312e+04\nDf Model:                          11                                         \nCovariance Type:            nonrobust                                         \n======================================================================================================\n                                         coef    std err          t      P>|t|      [0.025      0.975]\n------------------------------------------------------------------------------------------------------\nconst                              -9.901e-05      0.000     -0.266      0.791      -0.001       0.001\nln_source population               -5.113e-05   1.76e-05     -2.905      0.004   -8.56e-05   -1.66e-05\nln_target population                   0.0001   1.77e-05      6.661      0.000    8.31e-05       0.000\nln_distance                           -0.0002   1.37e-05    -13.407      0.000      -0.000      -0.000\nln_disasters_median_source         -6.507e-05   7.27e-05     -0.895      0.371      -0.000    7.75e-05\nln_ihProgramDeclared_median_source    1.2e-19   2.41e-19      0.498      0.619   -3.53e-19    5.93e-19\nln_iaProgramDeclared_median_source  2.875e-05   2.02e-05      1.423      0.155   -1.09e-05    6.84e-05\nln_paProgramDeclared_median_source -1.437e-05   7.27e-05     -0.198      0.843      -0.000       0.000\nln_hmProgramDeclared_median_source  1.542e-05   2.31e-05      0.666      0.505   -2.99e-05    6.08e-05\nln_disasters_median_target         -7.814e-05   7.29e-05     -1.072      0.284      -0.000    6.48e-05\nln_ihProgramDeclared_median_target -3.437e-21   6.49e-21     -0.530      0.597   -1.62e-20    9.29e-21\nln_iaProgramDeclared_median_target -5.575e-06   2.04e-05     -0.273      0.785   -4.56e-05    3.44e-05\nln_paProgramDeclared_median_target  3.636e-05   7.31e-05      0.497      0.619      -0.000       0.000\nln_hmProgramDeclared_median_target  2.236e-05   2.33e-05      0.959      0.338   -2.34e-05    6.81e-05\n==============================================================================\nOmnibus:                     4054.953   Durbin-Watson:                   1.978\nProb(Omnibus):                  0.000   Jarque-Bera (JB):         20574047.183\nSkew:                          18.263   Prob(JB):                         0.00\nKurtosis:                     513.234   Cond. No.                     8.69e+19\n==============================================================================\n\nNotes:\n[1] Standard Errors assume that the covariance matrix of the errors is correctly specified.\n[2] The smallest eigenvalue is 1.24e-34. This might indicate that there are\nstrong multicollinearity problems or that the design matrix is singular.\n"
    }
   ],
   "source": [
    "# defining the variables\n",
    "cols = ['source population', 'target population', 'distance', 'disasters_median_source', 'ihProgramDeclared_median_source', 'iaProgramDeclared_median_source', 'paProgramDeclared_median_source','hmProgramDeclared_median_source', 'disasters_median_target', 'ihProgramDeclared_median_target', 'iaProgramDeclared_median_target', 'paProgramDeclared_median_target', 'hmProgramDeclared_median_target']\n",
    "input_cols = []\n",
    "\n",
    "# add 1 to remove problems from exponential\n",
    "df_median[['disasters_median_source', 'ihProgramDeclared_median_source', 'iaProgramDeclared_median_source', 'paProgramDeclared_median_source','hmProgramDeclared_median_source', 'disasters_median_target', 'ihProgramDeclared_median_target', 'iaProgramDeclared_median_target', 'paProgramDeclared_median_target', 'hmProgramDeclared_median_target']] += 1\n",
    "\n",
    "for col in cols:\n",
    "    col_name = 'ln_' + col \n",
    "    input_cols.append(col_name)\n",
    "    df_median[col_name] = np.log(df_median[col])\n",
    "\n",
    "x = df_median[input_cols]\n",
    "y = df_median['migration_flux']\n",
    " \n",
    "# adding the constant term\n",
    "x = sm.add_constant(x)\n",
    " \n",
    "# performing the regression\n",
    "# and fitting the model\n",
    "result = sm.OLS(y, x).fit()\n",
    " \n",
    "# # printing the summary table\n",
    "print(result.summary())"
   ]
  }
 ]
}