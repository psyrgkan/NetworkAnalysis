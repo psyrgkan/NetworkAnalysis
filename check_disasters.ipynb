{
 "nbformat": 4,
 "nbformat_minor": 2,
 "metadata": {
  "language_info": {
   "name": "python",
   "codemirror_mode": {
    "name": "ipython",
    "version": 3
   },
   "version": "3.8.6-final"
  },
  "orig_nbformat": 2,
  "file_extension": ".py",
  "mimetype": "text/x-python",
  "name": "python",
  "npconvert_exporter": "python",
  "pygments_lexer": "ipython3",
  "version": 3,
  "kernelspec": {
   "name": "python38664bit386pyenv49c8da40f75d4a52ab4a97a513a5f232",
   "display_name": "Python 3.8.6 64-bit ('3.8.6': pyenv)"
  }
 },
 "cells": [
  {
   "cell_type": "code",
   "execution_count": 120,
   "metadata": {},
   "outputs": [],
   "source": [
    "import pandas as pd\n",
    "import pickle"
   ]
  },
  {
   "cell_type": "code",
   "execution_count": 107,
   "metadata": {},
   "outputs": [],
   "source": [
    "df = pd.read_pickle('/Users/zasghar.19/Desktop/eeps1720/NetworkAnalysis/disasters.pickle')"
   ]
  },
  {
   "cell_type": "code",
   "execution_count": 108,
   "metadata": {},
   "outputs": [],
   "source": [
    "def county_to_state_fips(county_fips):\n",
    "    return int(str(county_fips).zfill(5)[:2])"
   ]
  },
  {
   "cell_type": "code",
   "execution_count": 109,
   "metadata": {},
   "outputs": [],
   "source": [
    "# Mapping to names\n",
    "state_fips_to_code = {\n",
    "    1: 'AL', 2: 'AK', 4: 'AZ', 5: 'AR', 6: 'CA', 8: 'CO', 9: 'CT', 10: 'DE', 11: 'DC', 12: 'FL', 13: 'GA',\n",
    "    15: 'HI', 16: 'ID', 17: 'IL', 18: 'IN', 19: 'IA', 20: 'KS', 21: 'KY', 22: 'LA', 23: 'ME', 24: 'MD',\n",
    "    25: 'MA', 26: 'MI', 27: 'MN', 28: 'MS', 29: 'MO', 30: 'MT', 31: 'NE', 32: 'NV', 33: 'NH', 34: 'NJ',\n",
    "    35: 'NM', 36: 'NY', 37: 'NC', 38: 'ND', 39: 'OH', 40: 'OK', 41: 'OR', 42: 'PA', 44: 'RI', 45: 'SC',\n",
    "    46: 'SD', 47: 'TN', 48: 'TX', 49: 'UT', 50: 'VT', 51: 'VA', 53: 'WA', 54: 'WV', 55: 'WI', 56: 'WY'\n",
    "}"
   ]
  },
  {
   "cell_type": "code",
   "execution_count": 112,
   "metadata": {},
   "outputs": [],
   "source": [
    "year_df = df['2006']"
   ]
  },
  {
   "cell_type": "code",
   "execution_count": 113,
   "metadata": {},
   "outputs": [],
   "source": [
    "year_df['state fips'] = year_df['fips'].apply(county_to_state_fips)\n",
    "year_df['state'] = year_df['state fips'].map(state_fips_to_code)"
   ]
  },
  {
   "cell_type": "code",
   "execution_count": 114,
   "metadata": {},
   "outputs": [],
   "source": [
    "year_df = year_df[year_df['state'].notna()]"
   ]
  },
  {
   "cell_type": "code",
   "execution_count": 115,
   "metadata": {},
   "outputs": [],
   "source": [
    "filtered_df = year_df[['ihProgramDeclared', 'iaProgramDeclared', 'paProgramDeclared', 'hmProgramDeclared', 'disasters', 'state']]"
   ]
  },
  {
   "cell_type": "code",
   "execution_count": 116,
   "metadata": {},
   "outputs": [],
   "source": [
    "filtered_df = filtered_df.groupby('state')[['ihProgramDeclared', 'iaProgramDeclared', 'paProgramDeclared', 'hmProgramDeclared', 'disasters']].sum()"
   ]
  },
  {
   "cell_type": "code",
   "execution_count": 87,
   "metadata": {},
   "outputs": [],
   "source": [
    "years = ['1991', '1992', '1993', '1994', '1995', '1996', '1997', '1998', '1999', '2000', '2001', '2002', '2003', '2004', '2005', '2006', '2007', '2008', '2009', '2010']\n",
    "\n",
    "\n",
    "for year in years:\n",
    "    year_df = df[year]\n",
    "    year_df['state fips'] = year_df['fips'].apply(county_to_state_fips)\n",
    "    year_df['state'] = year_df['state fips'].map(state_fips_to_code)\n",
    "    year_df = year_df[year_df['state'].notna()]\n",
    "    cols = ['ihProgramDeclared', 'iaProgramDeclared', 'paProgramDeclared', 'hmProgramDeclared', 'disasters']\n",
    "    filtered_df = year_df[cols + ['state']]\n",
    "    year_cols = [col + year for col in cols]\n",
    "    filtered_df.columns = year_cols + ['state']\n",
    "    filtered_df = filtered_df[year_cols + ['state']]\n",
    "    filtered_df = filtered_df.groupby('state')[year_cols].sum()\n",
    "    # print(filtered_df.columns)\n",
    "    if year == '1991':\n",
    "        total_df = filtered_df\n",
    "    else:\n",
    "        total_df = pd.merge(total_df, filtered_df, how='outer', left_on=['state'], right_on=['state']).fillna(0)\n"
   ]
  },
  {
   "cell_type": "code",
   "execution_count": 89,
   "metadata": {},
   "outputs": [],
   "source": [
    "disasters_cols = ['disasters' + year for year in years]\n",
    "ih_cols = ['ihProgramDeclared' + year for year in years]\n",
    "ia_cols = ['iaProgramDeclared' + year for year in years]\n",
    "pa_cols = ['paProgramDeclared' + year for year in years]\n",
    "hm_cols = ['hmProgramDeclared' + year for year in years]"
   ]
  },
  {
   "cell_type": "code",
   "execution_count": 99,
   "metadata": {},
   "outputs": [],
   "source": [
    "total_df['disasters_median'] = total_df[disasters_cols].median(axis=1)\n",
    "total_df['ihProgramDeclared_median'] = total_df[ih_cols].median(axis=1)\n",
    "total_df['iaProgramDeclared_median'] = total_df[ia_cols].median(axis=1)\n",
    "total_df['paProgramDeclared_median'] = total_df[pa_cols].median(axis=1)\n",
    "total_df['hmProgramDeclared_median']  = total_df[hm_cols].median(axis=1)\n",
    "\n",
    "total_df['disasters_mean'] = total_df[disasters_cols].mean(axis=1)\n",
    "total_df['ihProgramDeclared_mean'] = total_df[ih_cols].mean(axis=1)\n",
    "total_df['iaProgramDeclared_mean'] = total_df[ia_cols].mean(axis=1)\n",
    "total_df['paProgramDeclared_mean'] = total_df[pa_cols].mean(axis=1)\n",
    "total_df['hmProgramDeclared_mean']  = total_df[hm_cols].mean(axis=1)"
   ]
  },
  {
   "cell_type": "code",
   "execution_count": 105,
   "metadata": {},
   "outputs": [],
   "source": [
    "median_cols = ['disasters_median', 'ihProgramDeclared_median', 'iaProgramDeclared_median', 'paProgramDeclared_median', 'hmProgramDeclared_median']\n",
    "mean_cols = ['disasters_mean', 'ihProgramDeclared_mean', 'iaProgramDeclared_mean', 'paProgramDeclared_mean', 'hmProgramDeclared_mean']\n",
    "mean_median_df = total_df[median_cols + mean_cols]"
   ]
  },
  {
   "cell_type": "code",
   "execution_count": 106,
   "metadata": {},
   "outputs": [],
   "source": [
    "with open(\"./disasters_mean_median.pkl\", 'wb') as f:\n",
    "    pickle.dump(mean_median_df, f)"
   ]
  },
  {
   "cell_type": "code",
   "execution_count": 119,
   "metadata": {},
   "outputs": [],
   "source": [
    "with open(\"./disasters_2006.pkl\", 'wb') as f:\n",
    "    pickle.dump(filtered_df, f)"
   ]
  },
  {
   "cell_type": "code",
   "execution_count": 121,
   "metadata": {},
   "outputs": [],
   "source": [
    "disasters_df = pd.read_pickle('./disasters_mean_median.pkl')"
   ]
  },
  {
   "cell_type": "code",
   "execution_count": 122,
   "metadata": {},
   "outputs": [
    {
     "data": {
      "text/html": "<div>\n<style scoped>\n    .dataframe tbody tr th:only-of-type {\n        vertical-align: middle;\n    }\n\n    .dataframe tbody tr th {\n        vertical-align: top;\n    }\n\n    .dataframe thead th {\n        text-align: right;\n    }\n</style>\n<table border=\"1\" class=\"dataframe\">\n  <thead>\n    <tr style=\"text-align: right;\">\n      <th></th>\n      <th>disasters_median</th>\n      <th>ihProgramDeclared_median</th>\n      <th>iaProgramDeclared_median</th>\n      <th>paProgramDeclared_median</th>\n      <th>hmProgramDeclared_median</th>\n      <th>disasters_mean</th>\n      <th>ihProgramDeclared_mean</th>\n      <th>iaProgramDeclared_mean</th>\n      <th>paProgramDeclared_mean</th>\n      <th>hmProgramDeclared_mean</th>\n    </tr>\n    <tr>\n      <th>state</th>\n      <th></th>\n      <th></th>\n      <th></th>\n      <th></th>\n      <th></th>\n      <th></th>\n      <th></th>\n      <th></th>\n      <th></th>\n      <th></th>\n    </tr>\n  </thead>\n  <tbody>\n    <tr>\n      <th>AK</th>\n      <td>4.5</td>\n      <td>0.0</td>\n      <td>0.0</td>\n      <td>4.5</td>\n      <td>0.0</td>\n      <td>4.80</td>\n      <td>0.75</td>\n      <td>1.00</td>\n      <td>4.80</td>\n      <td>3.55</td>\n    </tr>\n    <tr>\n      <th>AL</th>\n      <td>20.5</td>\n      <td>0.0</td>\n      <td>6.0</td>\n      <td>19.0</td>\n      <td>5.0</td>\n      <td>34.15</td>\n      <td>8.15</td>\n      <td>15.40</td>\n      <td>29.75</td>\n      <td>15.50</td>\n    </tr>\n    <tr>\n      <th>AR</th>\n      <td>20.5</td>\n      <td>0.0</td>\n      <td>0.0</td>\n      <td>18.5</td>\n      <td>0.0</td>\n      <td>37.10</td>\n      <td>5.10</td>\n      <td>11.00</td>\n      <td>35.15</td>\n      <td>17.15</td>\n    </tr>\n    <tr>\n      <th>AZ</th>\n      <td>3.0</td>\n      <td>0.0</td>\n      <td>0.0</td>\n      <td>3.0</td>\n      <td>0.0</td>\n      <td>7.50</td>\n      <td>0.00</td>\n      <td>1.25</td>\n      <td>7.05</td>\n      <td>2.60</td>\n    </tr>\n    <tr>\n      <th>CA</th>\n      <td>24.5</td>\n      <td>0.0</td>\n      <td>10.0</td>\n      <td>14.0</td>\n      <td>0.5</td>\n      <td>30.35</td>\n      <td>1.90</td>\n      <td>17.00</td>\n      <td>27.15</td>\n      <td>7.55</td>\n    </tr>\n    <tr>\n      <th>CO</th>\n      <td>4.0</td>\n      <td>0.0</td>\n      <td>0.0</td>\n      <td>3.5</td>\n      <td>0.0</td>\n      <td>13.45</td>\n      <td>0.10</td>\n      <td>3.55</td>\n      <td>10.35</td>\n      <td>3.80</td>\n    </tr>\n    <tr>\n      <th>CT</th>\n      <td>1.5</td>\n      <td>0.0</td>\n      <td>0.0</td>\n      <td>1.0</td>\n      <td>0.0</td>\n      <td>4.05</td>\n      <td>0.60</td>\n      <td>0.65</td>\n      <td>3.70</td>\n      <td>1.00</td>\n    </tr>\n    <tr>\n      <th>GA</th>\n      <td>21.5</td>\n      <td>0.0</td>\n      <td>4.0</td>\n      <td>18.0</td>\n      <td>0.0</td>\n      <td>41.90</td>\n      <td>4.25</td>\n      <td>17.45</td>\n      <td>38.95</td>\n      <td>13.80</td>\n    </tr>\n    <tr>\n      <th>IA</th>\n      <td>27.0</td>\n      <td>0.0</td>\n      <td>0.0</td>\n      <td>26.5</td>\n      <td>0.0</td>\n      <td>45.75</td>\n      <td>10.30</td>\n      <td>22.60</td>\n      <td>39.95</td>\n      <td>22.60</td>\n    </tr>\n    <tr>\n      <th>IN</th>\n      <td>35.5</td>\n      <td>0.0</td>\n      <td>4.5</td>\n      <td>26.5</td>\n      <td>0.0</td>\n      <td>49.70</td>\n      <td>16.50</td>\n      <td>23.95</td>\n      <td>37.85</td>\n      <td>22.70</td>\n    </tr>\n    <tr>\n      <th>KS</th>\n      <td>20.0</td>\n      <td>0.0</td>\n      <td>0.0</td>\n      <td>18.0</td>\n      <td>2.5</td>\n      <td>42.70</td>\n      <td>3.10</td>\n      <td>9.40</td>\n      <td>41.15</td>\n      <td>25.85</td>\n    </tr>\n    <tr>\n      <th>KY</th>\n      <td>64.5</td>\n      <td>0.0</td>\n      <td>2.0</td>\n      <td>60.5</td>\n      <td>6.0</td>\n      <td>70.75</td>\n      <td>12.90</td>\n      <td>19.40</td>\n      <td>64.45</td>\n      <td>29.55</td>\n    </tr>\n    <tr>\n      <th>LA</th>\n      <td>20.5</td>\n      <td>0.0</td>\n      <td>12.0</td>\n      <td>18.0</td>\n      <td>6.5</td>\n      <td>40.90</td>\n      <td>8.20</td>\n      <td>18.55</td>\n      <td>37.55</td>\n      <td>20.30</td>\n    </tr>\n    <tr>\n      <th>MA</th>\n      <td>10.5</td>\n      <td>0.0</td>\n      <td>0.0</td>\n      <td>8.0</td>\n      <td>0.0</td>\n      <td>10.35</td>\n      <td>1.20</td>\n      <td>3.05</td>\n      <td>9.05</td>\n      <td>2.10</td>\n    </tr>\n    <tr>\n      <th>ME</th>\n      <td>12.0</td>\n      <td>0.0</td>\n      <td>0.0</td>\n      <td>12.0</td>\n      <td>1.5</td>\n      <td>13.95</td>\n      <td>0.45</td>\n      <td>2.15</td>\n      <td>13.60</td>\n      <td>5.20</td>\n    </tr>\n    <tr>\n      <th>MS</th>\n      <td>20.0</td>\n      <td>0.0</td>\n      <td>4.0</td>\n      <td>16.0</td>\n      <td>0.0</td>\n      <td>32.95</td>\n      <td>6.35</td>\n      <td>15.85</td>\n      <td>26.40</td>\n      <td>17.30</td>\n    </tr>\n    <tr>\n      <th>NE</th>\n      <td>18.0</td>\n      <td>0.0</td>\n      <td>0.0</td>\n      <td>18.0</td>\n      <td>2.0</td>\n      <td>36.10</td>\n      <td>2.15</td>\n      <td>4.90</td>\n      <td>35.40</td>\n      <td>24.30</td>\n    </tr>\n    <tr>\n      <th>NH</th>\n      <td>7.0</td>\n      <td>0.0</td>\n      <td>0.0</td>\n      <td>7.0</td>\n      <td>0.0</td>\n      <td>7.95</td>\n      <td>0.90</td>\n      <td>1.95</td>\n      <td>7.85</td>\n      <td>2.85</td>\n    </tr>\n    <tr>\n      <th>NY</th>\n      <td>29.5</td>\n      <td>0.0</td>\n      <td>5.5</td>\n      <td>24.0</td>\n      <td>7.0</td>\n      <td>41.10</td>\n      <td>4.15</td>\n      <td>9.15</td>\n      <td>37.35</td>\n      <td>13.35</td>\n    </tr>\n    <tr>\n      <th>OK</th>\n      <td>43.5</td>\n      <td>0.0</td>\n      <td>1.0</td>\n      <td>31.5</td>\n      <td>0.0</td>\n      <td>62.60</td>\n      <td>6.55</td>\n      <td>14.15</td>\n      <td>59.70</td>\n      <td>30.20</td>\n    </tr>\n    <tr>\n      <th>RI</th>\n      <td>0.0</td>\n      <td>0.0</td>\n      <td>0.0</td>\n      <td>0.0</td>\n      <td>0.0</td>\n      <td>2.10</td>\n      <td>0.25</td>\n      <td>0.25</td>\n      <td>2.10</td>\n      <td>0.30</td>\n    </tr>\n    <tr>\n      <th>SC</th>\n      <td>1.0</td>\n      <td>0.0</td>\n      <td>0.0</td>\n      <td>1.0</td>\n      <td>0.0</td>\n      <td>11.60</td>\n      <td>1.40</td>\n      <td>2.65</td>\n      <td>10.05</td>\n      <td>5.50</td>\n    </tr>\n    <tr>\n      <th>TN</th>\n      <td>26.0</td>\n      <td>0.0</td>\n      <td>3.5</td>\n      <td>23.5</td>\n      <td>1.0</td>\n      <td>40.05</td>\n      <td>8.50</td>\n      <td>14.30</td>\n      <td>37.10</td>\n      <td>16.70</td>\n    </tr>\n    <tr>\n      <th>TX</th>\n      <td>85.0</td>\n      <td>0.0</td>\n      <td>20.0</td>\n      <td>47.5</td>\n      <td>11.0</td>\n      <td>147.45</td>\n      <td>9.05</td>\n      <td>24.75</td>\n      <td>127.90</td>\n      <td>56.05</td>\n    </tr>\n    <tr>\n      <th>WA</th>\n      <td>12.0</td>\n      <td>0.0</td>\n      <td>0.5</td>\n      <td>10.0</td>\n      <td>0.0</td>\n      <td>19.65</td>\n      <td>2.55</td>\n      <td>9.20</td>\n      <td>17.95</td>\n      <td>6.70</td>\n    </tr>\n    <tr>\n      <th>WI</th>\n      <td>11.0</td>\n      <td>0.0</td>\n      <td>2.0</td>\n      <td>7.5</td>\n      <td>0.0</td>\n      <td>18.90</td>\n      <td>4.50</td>\n      <td>10.40</td>\n      <td>15.70</td>\n      <td>7.35</td>\n    </tr>\n    <tr>\n      <th>DE</th>\n      <td>0.5</td>\n      <td>0.0</td>\n      <td>0.0</td>\n      <td>0.5</td>\n      <td>0.0</td>\n      <td>1.40</td>\n      <td>0.20</td>\n      <td>0.25</td>\n      <td>1.40</td>\n      <td>0.50</td>\n    </tr>\n    <tr>\n      <th>FL</th>\n      <td>27.0</td>\n      <td>0.0</td>\n      <td>11.0</td>\n      <td>26.5</td>\n      <td>5.5</td>\n      <td>58.65</td>\n      <td>11.50</td>\n      <td>25.40</td>\n      <td>52.60</td>\n      <td>21.95</td>\n    </tr>\n    <tr>\n      <th>HI</th>\n      <td>1.0</td>\n      <td>0.0</td>\n      <td>0.0</td>\n      <td>1.0</td>\n      <td>0.0</td>\n      <td>1.95</td>\n      <td>0.20</td>\n      <td>0.60</td>\n      <td>1.90</td>\n      <td>0.65</td>\n    </tr>\n    <tr>\n      <th>IL</th>\n      <td>17.5</td>\n      <td>0.0</td>\n      <td>7.0</td>\n      <td>17.5</td>\n      <td>0.5</td>\n      <td>28.10</td>\n      <td>3.35</td>\n      <td>12.50</td>\n      <td>24.75</td>\n      <td>9.50</td>\n    </tr>\n    <tr>\n      <th>MN</th>\n      <td>19.0</td>\n      <td>0.0</td>\n      <td>3.0</td>\n      <td>18.5</td>\n      <td>3.0</td>\n      <td>32.40</td>\n      <td>1.05</td>\n      <td>12.30</td>\n      <td>31.75</td>\n      <td>9.10</td>\n    </tr>\n    <tr>\n      <th>NJ</th>\n      <td>4.5</td>\n      <td>0.0</td>\n      <td>0.0</td>\n      <td>3.5</td>\n      <td>0.0</td>\n      <td>12.95</td>\n      <td>2.25</td>\n      <td>3.10</td>\n      <td>12.05</td>\n      <td>3.90</td>\n    </tr>\n    <tr>\n      <th>NM</th>\n      <td>3.5</td>\n      <td>0.0</td>\n      <td>0.0</td>\n      <td>3.0</td>\n      <td>0.0</td>\n      <td>9.20</td>\n      <td>0.20</td>\n      <td>1.30</td>\n      <td>8.15</td>\n      <td>2.75</td>\n    </tr>\n    <tr>\n      <th>OH</th>\n      <td>10.0</td>\n      <td>0.0</td>\n      <td>8.5</td>\n      <td>5.5</td>\n      <td>0.0</td>\n      <td>29.00</td>\n      <td>7.50</td>\n      <td>11.60</td>\n      <td>21.55</td>\n      <td>15.05</td>\n    </tr>\n    <tr>\n      <th>OR</th>\n      <td>7.5</td>\n      <td>0.0</td>\n      <td>0.0</td>\n      <td>4.5</td>\n      <td>0.0</td>\n      <td>11.55</td>\n      <td>0.30</td>\n      <td>2.45</td>\n      <td>10.80</td>\n      <td>4.25</td>\n    </tr>\n    <tr>\n      <th>SD</th>\n      <td>25.5</td>\n      <td>0.0</td>\n      <td>0.0</td>\n      <td>25.5</td>\n      <td>1.0</td>\n      <td>33.95</td>\n      <td>0.55</td>\n      <td>9.00</td>\n      <td>33.85</td>\n      <td>13.30</td>\n    </tr>\n    <tr>\n      <th>VA</th>\n      <td>30.0</td>\n      <td>0.0</td>\n      <td>3.0</td>\n      <td>24.5</td>\n      <td>2.5</td>\n      <td>60.95</td>\n      <td>7.15</td>\n      <td>18.65</td>\n      <td>56.60</td>\n      <td>23.15</td>\n    </tr>\n    <tr>\n      <th>VT</th>\n      <td>5.0</td>\n      <td>0.0</td>\n      <td>0.0</td>\n      <td>5.0</td>\n      <td>0.0</td>\n      <td>5.95</td>\n      <td>0.00</td>\n      <td>1.85</td>\n      <td>5.95</td>\n      <td>3.05</td>\n    </tr>\n    <tr>\n      <th>DC</th>\n      <td>0.0</td>\n      <td>0.0</td>\n      <td>0.0</td>\n      <td>0.0</td>\n      <td>0.0</td>\n      <td>0.60</td>\n      <td>0.05</td>\n      <td>0.10</td>\n      <td>0.60</td>\n      <td>0.30</td>\n    </tr>\n    <tr>\n      <th>MD</th>\n      <td>1.5</td>\n      <td>0.0</td>\n      <td>0.0</td>\n      <td>1.0</td>\n      <td>0.0</td>\n      <td>10.00</td>\n      <td>1.20</td>\n      <td>2.30</td>\n      <td>9.85</td>\n      <td>4.50</td>\n    </tr>\n    <tr>\n      <th>MO</th>\n      <td>39.5</td>\n      <td>0.0</td>\n      <td>12.0</td>\n      <td>26.5</td>\n      <td>3.5</td>\n      <td>67.75</td>\n      <td>14.25</td>\n      <td>28.40</td>\n      <td>56.25</td>\n      <td>35.35</td>\n    </tr>\n    <tr>\n      <th>NC</th>\n      <td>7.0</td>\n      <td>0.0</td>\n      <td>0.0</td>\n      <td>7.0</td>\n      <td>0.0</td>\n      <td>42.40</td>\n      <td>5.45</td>\n      <td>14.60</td>\n      <td>39.00</td>\n      <td>14.85</td>\n    </tr>\n    <tr>\n      <th>ND</th>\n      <td>32.5</td>\n      <td>0.0</td>\n      <td>0.0</td>\n      <td>31.5</td>\n      <td>4.5</td>\n      <td>35.10</td>\n      <td>2.25</td>\n      <td>11.45</td>\n      <td>34.35</td>\n      <td>18.25</td>\n    </tr>\n    <tr>\n      <th>PA</th>\n      <td>7.5</td>\n      <td>0.0</td>\n      <td>0.0</td>\n      <td>6.5</td>\n      <td>0.0</td>\n      <td>30.50</td>\n      <td>5.65</td>\n      <td>11.35</td>\n      <td>24.25</td>\n      <td>12.05</td>\n    </tr>\n    <tr>\n      <th>WV</th>\n      <td>19.5</td>\n      <td>0.0</td>\n      <td>1.5</td>\n      <td>17.0</td>\n      <td>3.0</td>\n      <td>30.35</td>\n      <td>7.25</td>\n      <td>14.40</td>\n      <td>28.05</td>\n      <td>14.35</td>\n    </tr>\n    <tr>\n      <th>MI</th>\n      <td>5.5</td>\n      <td>0.0</td>\n      <td>0.0</td>\n      <td>1.5</td>\n      <td>0.0</td>\n      <td>12.55</td>\n      <td>1.15</td>\n      <td>1.80</td>\n      <td>11.05</td>\n      <td>2.20</td>\n    </tr>\n    <tr>\n      <th>MT</th>\n      <td>3.5</td>\n      <td>0.0</td>\n      <td>0.0</td>\n      <td>3.5</td>\n      <td>0.0</td>\n      <td>11.05</td>\n      <td>0.00</td>\n      <td>2.70</td>\n      <td>8.35</td>\n      <td>1.25</td>\n    </tr>\n    <tr>\n      <th>NV</th>\n      <td>2.5</td>\n      <td>0.0</td>\n      <td>0.0</td>\n      <td>2.5</td>\n      <td>0.0</td>\n      <td>5.85</td>\n      <td>0.05</td>\n      <td>0.45</td>\n      <td>5.85</td>\n      <td>0.65</td>\n    </tr>\n    <tr>\n      <th>UT</th>\n      <td>0.5</td>\n      <td>0.0</td>\n      <td>0.0</td>\n      <td>0.5</td>\n      <td>0.0</td>\n      <td>2.75</td>\n      <td>0.00</td>\n      <td>0.05</td>\n      <td>2.75</td>\n      <td>0.60</td>\n    </tr>\n    <tr>\n      <th>ID</th>\n      <td>0.0</td>\n      <td>0.0</td>\n      <td>0.0</td>\n      <td>0.0</td>\n      <td>0.0</td>\n      <td>5.85</td>\n      <td>0.00</td>\n      <td>2.30</td>\n      <td>5.05</td>\n      <td>0.65</td>\n    </tr>\n    <tr>\n      <th>WY</th>\n      <td>0.0</td>\n      <td>0.0</td>\n      <td>0.0</td>\n      <td>0.0</td>\n      <td>0.0</td>\n      <td>1.10</td>\n      <td>0.05</td>\n      <td>0.05</td>\n      <td>1.05</td>\n      <td>0.45</td>\n    </tr>\n  </tbody>\n</table>\n</div>",
      "text/plain": "       disasters_median  ihProgramDeclared_median  iaProgramDeclared_median  \\\nstate                                                                         \nAK                  4.5                       0.0                       0.0   \nAL                 20.5                       0.0                       6.0   \nAR                 20.5                       0.0                       0.0   \nAZ                  3.0                       0.0                       0.0   \nCA                 24.5                       0.0                      10.0   \nCO                  4.0                       0.0                       0.0   \nCT                  1.5                       0.0                       0.0   \nGA                 21.5                       0.0                       4.0   \nIA                 27.0                       0.0                       0.0   \nIN                 35.5                       0.0                       4.5   \nKS                 20.0                       0.0                       0.0   \nKY                 64.5                       0.0                       2.0   \nLA                 20.5                       0.0                      12.0   \nMA                 10.5                       0.0                       0.0   \nME                 12.0                       0.0                       0.0   \nMS                 20.0                       0.0                       4.0   \nNE                 18.0                       0.0                       0.0   \nNH                  7.0                       0.0                       0.0   \nNY                 29.5                       0.0                       5.5   \nOK                 43.5                       0.0                       1.0   \nRI                  0.0                       0.0                       0.0   \nSC                  1.0                       0.0                       0.0   \nTN                 26.0                       0.0                       3.5   \nTX                 85.0                       0.0                      20.0   \nWA                 12.0                       0.0                       0.5   \nWI                 11.0                       0.0                       2.0   \nDE                  0.5                       0.0                       0.0   \nFL                 27.0                       0.0                      11.0   \nHI                  1.0                       0.0                       0.0   \nIL                 17.5                       0.0                       7.0   \nMN                 19.0                       0.0                       3.0   \nNJ                  4.5                       0.0                       0.0   \nNM                  3.5                       0.0                       0.0   \nOH                 10.0                       0.0                       8.5   \nOR                  7.5                       0.0                       0.0   \nSD                 25.5                       0.0                       0.0   \nVA                 30.0                       0.0                       3.0   \nVT                  5.0                       0.0                       0.0   \nDC                  0.0                       0.0                       0.0   \nMD                  1.5                       0.0                       0.0   \nMO                 39.5                       0.0                      12.0   \nNC                  7.0                       0.0                       0.0   \nND                 32.5                       0.0                       0.0   \nPA                  7.5                       0.0                       0.0   \nWV                 19.5                       0.0                       1.5   \nMI                  5.5                       0.0                       0.0   \nMT                  3.5                       0.0                       0.0   \nNV                  2.5                       0.0                       0.0   \nUT                  0.5                       0.0                       0.0   \nID                  0.0                       0.0                       0.0   \nWY                  0.0                       0.0                       0.0   \n\n       paProgramDeclared_median  hmProgramDeclared_median  disasters_mean  \\\nstate                                                                       \nAK                          4.5                       0.0            4.80   \nAL                         19.0                       5.0           34.15   \nAR                         18.5                       0.0           37.10   \nAZ                          3.0                       0.0            7.50   \nCA                         14.0                       0.5           30.35   \nCO                          3.5                       0.0           13.45   \nCT                          1.0                       0.0            4.05   \nGA                         18.0                       0.0           41.90   \nIA                         26.5                       0.0           45.75   \nIN                         26.5                       0.0           49.70   \nKS                         18.0                       2.5           42.70   \nKY                         60.5                       6.0           70.75   \nLA                         18.0                       6.5           40.90   \nMA                          8.0                       0.0           10.35   \nME                         12.0                       1.5           13.95   \nMS                         16.0                       0.0           32.95   \nNE                         18.0                       2.0           36.10   \nNH                          7.0                       0.0            7.95   \nNY                         24.0                       7.0           41.10   \nOK                         31.5                       0.0           62.60   \nRI                          0.0                       0.0            2.10   \nSC                          1.0                       0.0           11.60   \nTN                         23.5                       1.0           40.05   \nTX                         47.5                      11.0          147.45   \nWA                         10.0                       0.0           19.65   \nWI                          7.5                       0.0           18.90   \nDE                          0.5                       0.0            1.40   \nFL                         26.5                       5.5           58.65   \nHI                          1.0                       0.0            1.95   \nIL                         17.5                       0.5           28.10   \nMN                         18.5                       3.0           32.40   \nNJ                          3.5                       0.0           12.95   \nNM                          3.0                       0.0            9.20   \nOH                          5.5                       0.0           29.00   \nOR                          4.5                       0.0           11.55   \nSD                         25.5                       1.0           33.95   \nVA                         24.5                       2.5           60.95   \nVT                          5.0                       0.0            5.95   \nDC                          0.0                       0.0            0.60   \nMD                          1.0                       0.0           10.00   \nMO                         26.5                       3.5           67.75   \nNC                          7.0                       0.0           42.40   \nND                         31.5                       4.5           35.10   \nPA                          6.5                       0.0           30.50   \nWV                         17.0                       3.0           30.35   \nMI                          1.5                       0.0           12.55   \nMT                          3.5                       0.0           11.05   \nNV                          2.5                       0.0            5.85   \nUT                          0.5                       0.0            2.75   \nID                          0.0                       0.0            5.85   \nWY                          0.0                       0.0            1.10   \n\n       ihProgramDeclared_mean  iaProgramDeclared_mean  paProgramDeclared_mean  \\\nstate                                                                           \nAK                       0.75                    1.00                    4.80   \nAL                       8.15                   15.40                   29.75   \nAR                       5.10                   11.00                   35.15   \nAZ                       0.00                    1.25                    7.05   \nCA                       1.90                   17.00                   27.15   \nCO                       0.10                    3.55                   10.35   \nCT                       0.60                    0.65                    3.70   \nGA                       4.25                   17.45                   38.95   \nIA                      10.30                   22.60                   39.95   \nIN                      16.50                   23.95                   37.85   \nKS                       3.10                    9.40                   41.15   \nKY                      12.90                   19.40                   64.45   \nLA                       8.20                   18.55                   37.55   \nMA                       1.20                    3.05                    9.05   \nME                       0.45                    2.15                   13.60   \nMS                       6.35                   15.85                   26.40   \nNE                       2.15                    4.90                   35.40   \nNH                       0.90                    1.95                    7.85   \nNY                       4.15                    9.15                   37.35   \nOK                       6.55                   14.15                   59.70   \nRI                       0.25                    0.25                    2.10   \nSC                       1.40                    2.65                   10.05   \nTN                       8.50                   14.30                   37.10   \nTX                       9.05                   24.75                  127.90   \nWA                       2.55                    9.20                   17.95   \nWI                       4.50                   10.40                   15.70   \nDE                       0.20                    0.25                    1.40   \nFL                      11.50                   25.40                   52.60   \nHI                       0.20                    0.60                    1.90   \nIL                       3.35                   12.50                   24.75   \nMN                       1.05                   12.30                   31.75   \nNJ                       2.25                    3.10                   12.05   \nNM                       0.20                    1.30                    8.15   \nOH                       7.50                   11.60                   21.55   \nOR                       0.30                    2.45                   10.80   \nSD                       0.55                    9.00                   33.85   \nVA                       7.15                   18.65                   56.60   \nVT                       0.00                    1.85                    5.95   \nDC                       0.05                    0.10                    0.60   \nMD                       1.20                    2.30                    9.85   \nMO                      14.25                   28.40                   56.25   \nNC                       5.45                   14.60                   39.00   \nND                       2.25                   11.45                   34.35   \nPA                       5.65                   11.35                   24.25   \nWV                       7.25                   14.40                   28.05   \nMI                       1.15                    1.80                   11.05   \nMT                       0.00                    2.70                    8.35   \nNV                       0.05                    0.45                    5.85   \nUT                       0.00                    0.05                    2.75   \nID                       0.00                    2.30                    5.05   \nWY                       0.05                    0.05                    1.05   \n\n       hmProgramDeclared_mean  \nstate                          \nAK                       3.55  \nAL                      15.50  \nAR                      17.15  \nAZ                       2.60  \nCA                       7.55  \nCO                       3.80  \nCT                       1.00  \nGA                      13.80  \nIA                      22.60  \nIN                      22.70  \nKS                      25.85  \nKY                      29.55  \nLA                      20.30  \nMA                       2.10  \nME                       5.20  \nMS                      17.30  \nNE                      24.30  \nNH                       2.85  \nNY                      13.35  \nOK                      30.20  \nRI                       0.30  \nSC                       5.50  \nTN                      16.70  \nTX                      56.05  \nWA                       6.70  \nWI                       7.35  \nDE                       0.50  \nFL                      21.95  \nHI                       0.65  \nIL                       9.50  \nMN                       9.10  \nNJ                       3.90  \nNM                       2.75  \nOH                      15.05  \nOR                       4.25  \nSD                      13.30  \nVA                      23.15  \nVT                       3.05  \nDC                       0.30  \nMD                       4.50  \nMO                      35.35  \nNC                      14.85  \nND                      18.25  \nPA                      12.05  \nWV                      14.35  \nMI                       2.20  \nMT                       1.25  \nNV                       0.65  \nUT                       0.60  \nID                       0.65  \nWY                       0.45  "
     },
     "execution_count": 122,
     "metadata": {},
     "output_type": "execute_result"
    }
   ],
   "source": [
    "disasters_df"
   ]
  }
 ]
}