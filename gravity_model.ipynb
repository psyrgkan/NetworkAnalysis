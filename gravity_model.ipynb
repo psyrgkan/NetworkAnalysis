{
 "nbformat": 4,
 "nbformat_minor": 2,
 "metadata": {
  "language_info": {
   "name": "python",
   "codemirror_mode": {
    "name": "ipython",
    "version": 3
   },
   "version": "3.7.7-final"
  },
  "orig_nbformat": 2,
  "file_extension": ".py",
  "mimetype": "text/x-python",
  "name": "python",
  "npconvert_exporter": "python",
  "pygments_lexer": "ipython3",
  "version": 3,
  "kernelspec": {
   "name": "python3",
   "display_name": "Python 3"
  }
 },
 "cells": [
  {
   "cell_type": "code",
   "execution_count": 25,
   "metadata": {},
   "outputs": [],
   "source": [
    "import pandas as pd\n",
    "import numpy as np\n",
    "import networkx as nx\n",
    "import pickle\n",
    "import statsmodels.api as sm\n",
    "import sklearn.metrics.pairwise as pw"
   ]
  },
  {
   "cell_type": "code",
   "execution_count": 32,
   "metadata": {},
   "outputs": [],
   "source": [
    "# Load dataframe median\n",
    "with open(\"/Users/zasghar.19/Desktop/eeps1720/NetworkAnalysis/median_state_migration.p\", 'rb') as f:  # notice the r instead of w\n",
    "    df_median = pickle.load(f)"
   ]
  },
  {
   "cell_type": "code",
   "execution_count": 33,
   "metadata": {},
   "outputs": [
    {
     "data": {
      "text/html": "<div>\n<style scoped>\n    .dataframe tbody tr th:only-of-type {\n        vertical-align: middle;\n    }\n\n    .dataframe tbody tr th {\n        vertical-align: top;\n    }\n\n    .dataframe thead th {\n        text-align: right;\n    }\n</style>\n<table border=\"1\" class=\"dataframe\">\n  <thead>\n    <tr style=\"text-align: right;\">\n      <th></th>\n      <th>source state</th>\n      <th>target state</th>\n      <th>migration</th>\n      <th>migration_flux</th>\n      <th>source population</th>\n      <th>target population</th>\n      <th>distance</th>\n    </tr>\n  </thead>\n  <tbody>\n    <tr>\n      <th>1882</th>\n      <td>WY</td>\n      <td>OR</td>\n      <td>5.5</td>\n      <td>0.000011</td>\n      <td>493920.0</td>\n      <td>3452289.0</td>\n      <td>13.040871</td>\n    </tr>\n    <tr>\n      <th>1883</th>\n      <td>WY</td>\n      <td>SD</td>\n      <td>110.5</td>\n      <td>0.000224</td>\n      <td>493920.0</td>\n      <td>757053.5</td>\n      <td>7.466767</td>\n    </tr>\n    <tr>\n      <th>1884</th>\n      <td>WY</td>\n      <td>TX</td>\n      <td>60.5</td>\n      <td>0.000122</td>\n      <td>493920.0</td>\n      <td>21163115.5</td>\n      <td>14.151989</td>\n    </tr>\n    <tr>\n      <th>1885</th>\n      <td>WY</td>\n      <td>UT</td>\n      <td>375.0</td>\n      <td>0.000759</td>\n      <td>493920.0</td>\n      <td>2261059.0</td>\n      <td>5.530331</td>\n    </tr>\n    <tr>\n      <th>1886</th>\n      <td>WY</td>\n      <td>WA</td>\n      <td>52.5</td>\n      <td>0.000106</td>\n      <td>493920.0</td>\n      <td>5952596.5</td>\n      <td>13.621737</td>\n    </tr>\n  </tbody>\n</table>\n</div>",
      "text/plain": "     source state target state  migration  migration_flux  source population  \\\n1882           WY           OR        5.5        0.000011           493920.0   \n1883           WY           SD      110.5        0.000224           493920.0   \n1884           WY           TX       60.5        0.000122           493920.0   \n1885           WY           UT      375.0        0.000759           493920.0   \n1886           WY           WA       52.5        0.000106           493920.0   \n\n      target population   distance  \n1882          3452289.0  13.040871  \n1883           757053.5   7.466767  \n1884         21163115.5  14.151989  \n1885          2261059.0   5.530331  \n1886          5952596.5  13.621737  "
     },
     "execution_count": 33,
     "metadata": {},
     "output_type": "execute_result"
    }
   ],
   "source": [
    "df_median.tail()"
   ]
  },
  {
   "cell_type": "code",
   "execution_count": 34,
   "metadata": {},
   "outputs": [
    {
     "name": "stdout",
     "output_type": "stream",
     "text": "OLS Regression Results                            \n==============================================================================\nDep. Variable:         migration_flux   R-squared:                       0.061\nModel:                            OLS   Adj. R-squared:                  0.060\nMethod:                 Least Squares   F-statistic:                     40.89\nDate:                Fri, 28 Apr 2023   Prob (F-statistic):           1.36e-25\nTime:                        16:16:24   Log-Likelihood:                 11518.\nNo. Observations:                1887   AIC:                        -2.303e+04\nDf Residuals:                    1883   BIC:                        -2.301e+04\nDf Model:                           3                                         \nCovariance Type:            nonrobust                                         \n=====================================================================================\n                        coef    std err          t      P>|t|      [0.025      0.975]\n-------------------------------------------------------------------------------------\nconst                 0.0002   2.65e-05      6.808      0.000       0.000       0.000\nsource population -5.626e-12   1.87e-12     -3.009      0.003   -9.29e-12   -1.96e-12\ntarget population  1.636e-11   1.87e-12      8.759      0.000    1.27e-11       2e-11\ndistance          -3.714e-06   6.75e-07     -5.499      0.000   -5.04e-06   -2.39e-06\n==============================================================================\nOmnibus:                     4140.293   Durbin-Watson:                   1.943\nProb(Omnibus):                  0.000   Jarque-Bera (JB):         23154193.870\nSkew:                          19.172   Prob(JB):                         0.00\nKurtosis:                     544.312   Cond. No.                     2.38e+07\n==============================================================================\n\nNotes:\n[1] Standard Errors assume that the covariance matrix of the errors is correctly specified.\n[2] The condition number is large, 2.38e+07. This might indicate that there are\nstrong multicollinearity or other numerical problems.\n"
    }
   ],
   "source": [
    "# defining the variables\n",
    "x = df_median[['source population', 'target population', 'distance']]\n",
    "y = df_median['migration_flux']\n",
    " \n",
    "# adding the constant term\n",
    "x = sm.add_constant(x)\n",
    " \n",
    "# performing the regression\n",
    "# and fitting the model\n",
    "result = sm.OLS(y, x).fit()\n",
    " \n",
    "# # printing the summary table\n",
    "print(result.summary())"
   ]
  }
 ]
}